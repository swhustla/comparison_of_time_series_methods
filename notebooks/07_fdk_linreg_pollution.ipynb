{
 "cells": [
  {
   "cell_type": "markdown",
   "id": "733f6672-b4f6-482b-9cfc-337ad8ed5233",
   "metadata": {},
   "source": [
    "# Predict weekly data, single city (linear regression)"
   ]
  },
  {
   "cell_type": "code",
   "execution_count": 1,
   "id": "41dc0d23-91c2-466b-9a58-5705938189b9",
   "metadata": {},
   "outputs": [],
   "source": [
    "import os\n",
    "from pathlib import Path\n",
    "\n",
    "\n",
    "import matplotlib.pyplot as plt\n",
    "\n",
    "%matplotlib inline\n",
    "%load_ext autoreload\n",
    "%autoreload 2\n",
    "%load_ext lab_black"
   ]
  },
  {
   "cell_type": "code",
   "execution_count": 2,
   "id": "90b36051",
   "metadata": {},
   "outputs": [
    {
     "ename": "ModuleNotFoundError",
     "evalue": "No module named 'data'",
     "output_type": "error",
     "traceback": [
      "\u001b[0;31m---------------------------------------------------------------------------\u001b[0m",
      "\u001b[0;31mModuleNotFoundError\u001b[0m                       Traceback (most recent call last)",
      "Cell \u001b[0;32mIn [2], line 1\u001b[0m\n\u001b[0;32m----> 1\u001b[0m \u001b[39mfrom\u001b[39;00m \u001b[39mdata\u001b[39;00m\u001b[39m.\u001b[39;00m\u001b[39mindia_pollution\u001b[39;00m \u001b[39mimport\u001b[39;00m india_pollution\n\u001b[1;32m      2\u001b[0m \u001b[39mfrom\u001b[39;00m \u001b[39mdata\u001b[39;00m\u001b[39m.\u001b[39;00m\u001b[39mstock_prices\u001b[39;00m \u001b[39mimport\u001b[39;00m stock_prices\n\u001b[1;32m      3\u001b[0m \u001b[39mfrom\u001b[39;00m \u001b[39mdata\u001b[39;00m\u001b[39m.\u001b[39;00m\u001b[39mlist_of_tuples\u001b[39;00m \u001b[39mimport\u001b[39;00m list_of_tuples\n",
      "\u001b[0;31mModuleNotFoundError\u001b[0m: No module named 'data'"
     ]
    }
   ],
   "source": [
    "from data.india_pollution import india_pollution\n",
    "from data.stock_prices import stock_prices\n",
    "from data.list_of_tuples import list_of_tuples\n",
    "\n",
    "delhi_df_weekly = india_pollution()\n",
    "delhi_df_weekly.head()"
   ]
  },
  {
   "cell_type": "code",
   "execution_count": 115,
   "id": "68bd1fb8",
   "metadata": {},
   "outputs": [
    {
     "data": {
      "text/html": [
       "<div>\n",
       "<style scoped>\n",
       "    .dataframe tbody tr th:only-of-type {\n",
       "        vertical-align: middle;\n",
       "    }\n",
       "\n",
       "    .dataframe tbody tr th {\n",
       "        vertical-align: top;\n",
       "    }\n",
       "\n",
       "    .dataframe thead th {\n",
       "        text-align: right;\n",
       "    }\n",
       "</style>\n",
       "<table border=\"1\" class=\"dataframe\">\n",
       "  <thead>\n",
       "    <tr style=\"text-align: right;\">\n",
       "      <th></th>\n",
       "      <th>Adj Close</th>\n",
       "    </tr>\n",
       "    <tr>\n",
       "      <th>Date</th>\n",
       "      <th></th>\n",
       "    </tr>\n",
       "  </thead>\n",
       "  <tbody>\n",
       "    <tr>\n",
       "      <th>2001-06-01</th>\n",
       "      <td>26.190712</td>\n",
       "    </tr>\n",
       "    <tr>\n",
       "      <th>2001-06-02</th>\n",
       "      <td>26.190712</td>\n",
       "    </tr>\n",
       "    <tr>\n",
       "      <th>2001-06-03</th>\n",
       "      <td>26.190712</td>\n",
       "    </tr>\n",
       "    <tr>\n",
       "      <th>2001-06-04</th>\n",
       "      <td>26.517500</td>\n",
       "    </tr>\n",
       "    <tr>\n",
       "      <th>2001-06-05</th>\n",
       "      <td>25.981800</td>\n",
       "    </tr>\n",
       "  </tbody>\n",
       "</table>\n",
       "</div>"
      ],
      "text/plain": [
       "            Adj Close\n",
       "Date                 \n",
       "2001-06-01  26.190712\n",
       "2001-06-02  26.190712\n",
       "2001-06-03  26.190712\n",
       "2001-06-04  26.517500\n",
       "2001-06-05  25.981800"
      ]
     },
     "execution_count": 115,
     "metadata": {},
     "output_type": "execute_result"
    }
   ],
   "source": [
    "stock_prices_df = stock_prices()\n",
    "stock_prices_df.head()"
   ]
  },
  {
   "cell_type": "code",
   "execution_count": 122,
   "id": "4b89dca5",
   "metadata": {},
   "outputs": [
    {
     "data": {
      "text/html": [
       "<div>\n",
       "<style scoped>\n",
       "    .dataframe tbody tr th:only-of-type {\n",
       "        vertical-align: middle;\n",
       "    }\n",
       "\n",
       "    .dataframe tbody tr th {\n",
       "        vertical-align: top;\n",
       "    }\n",
       "\n",
       "    .dataframe thead th {\n",
       "        text-align: right;\n",
       "    }\n",
       "</style>\n",
       "<table border=\"1\" class=\"dataframe\">\n",
       "  <thead>\n",
       "    <tr style=\"text-align: right;\">\n",
       "      <th></th>\n",
       "      <th>y</th>\n",
       "    </tr>\n",
       "  </thead>\n",
       "  <tbody>\n",
       "    <tr>\n",
       "      <th>0</th>\n",
       "      <td>2</td>\n",
       "    </tr>\n",
       "    <tr>\n",
       "      <th>1</th>\n",
       "      <td>-1</td>\n",
       "    </tr>\n",
       "    <tr>\n",
       "      <th>2</th>\n",
       "      <td>2</td>\n",
       "    </tr>\n",
       "    <tr>\n",
       "      <th>3</th>\n",
       "      <td>1</td>\n",
       "    </tr>\n",
       "    <tr>\n",
       "      <th>4</th>\n",
       "      <td>2</td>\n",
       "    </tr>\n",
       "  </tbody>\n",
       "</table>\n",
       "</div>"
      ],
      "text/plain": [
       "   y\n",
       "0  2\n",
       "1 -1\n",
       "2  2\n",
       "3  1\n",
       "4  2"
      ]
     },
     "execution_count": 122,
     "metadata": {},
     "output_type": "execute_result"
    }
   ],
   "source": [
    "list_of_tuples_df = list_of_tuples()\n",
    "list_of_tuples_df.head()"
   ]
  },
  {
   "cell_type": "code",
   "execution_count": 123,
   "id": "cac8fe54",
   "metadata": {},
   "outputs": [
    {
     "data": {
      "text/plain": [
       "<AxesSubplot:>"
      ]
     },
     "execution_count": 123,
     "metadata": {},
     "output_type": "execute_result"
    },
    {
     "data": {
      "image/png": "[encoded data removed]",
      "text/plain": [
       "<Figure size 432x288 with 1 Axes>"
      ]
     },
     "metadata": {
      "needs_background": "light"
     },
     "output_type": "display_data"
    }
   ],
   "source": [
    "list_of_tuples_df.plot()"
   ]
  },
  {
   "cell_type": "code",
   "execution_count": 96,
   "id": "c6c702d4-1902-4696-8d05-8daec7181ac9",
   "metadata": {},
   "outputs": [],
   "source": [
    "import torch, numpy as np, pandas as pd"
   ]
  },
  {
   "cell_type": "code",
   "execution_count": 97,
   "id": "fb1ded4c-a6a2-461f-b6e6-aecfd0352c72",
   "metadata": {},
   "outputs": [],
   "source": [
    "np.set_printoptions(linewidth=140)\n",
    "torch.set_printoptions(linewidth=140, sci_mode=False, edgeitems=7)\n",
    "pd.set_option(\"display.width\", 140)"
   ]
  },
  {
   "cell_type": "code",
   "execution_count": 105,
   "id": "385da36f-2c27-4a8f-a0c5-9ca7f2541039",
   "metadata": {},
   "outputs": [
    {
     "data": {
      "text/html": [
       "<div>\n",
       "<style scoped>\n",
       "    .dataframe tbody tr th:only-of-type {\n",
       "        vertical-align: middle;\n",
       "    }\n",
       "\n",
       "    .dataframe tbody tr th {\n",
       "        vertical-align: top;\n",
       "    }\n",
       "\n",
       "    .dataframe thead th {\n",
       "        text-align: right;\n",
       "    }\n",
       "</style>\n",
       "<table border=\"1\" class=\"dataframe\">\n",
       "  <thead>\n",
       "    <tr style=\"text-align: right;\">\n",
       "      <th></th>\n",
       "      <th>PM2.5</th>\n",
       "      <th>PM10</th>\n",
       "      <th>O3</th>\n",
       "      <th>CO</th>\n",
       "      <th>SO2</th>\n",
       "      <th>NO2</th>\n",
       "    </tr>\n",
       "  </thead>\n",
       "  <tbody>\n",
       "    <tr>\n",
       "      <th>0</th>\n",
       "      <td>float64</td>\n",
       "      <td>float64</td>\n",
       "      <td>float64</td>\n",
       "      <td>float64</td>\n",
       "      <td>float64</td>\n",
       "      <td>float64</td>\n",
       "    </tr>\n",
       "  </tbody>\n",
       "</table>\n",
       "</div>"
      ],
      "text/plain": [
       "     PM2.5     PM10       O3       CO      SO2      NO2\n",
       "0  float64  float64  float64  float64  float64  float64"
      ]
     },
     "execution_count": 105,
     "metadata": {},
     "output_type": "execute_result"
    }
   ],
   "source": [
    "def convert_series_to_df_and_transpose(series):\n",
    "    return pd.DataFrame(series).T\n",
    "\n",
    "\n",
    "convert_series_to_df_and_transpose(delhi_df_weekly.dtypes)"
   ]
  },
  {
   "cell_type": "code",
   "execution_count": 103,
   "id": "ebf54f7a",
   "metadata": {},
   "outputs": [
    {
     "data": {
      "text/plain": [
       "<AxesSubplot:xlabel='Date'>"
      ]
     },
     "execution_count": 103,
     "metadata": {},
     "output_type": "execute_result"
    },
    {
     "data": {
      "image/png": "[encoded data removed]",
      "text/plain": [
       "<Figure size 864x432 with 1 Axes>"
      ]
     },
     "metadata": {
      "needs_background": "light"
     },
     "output_type": "display_data"
    }
   ],
   "source": [
    "delhi_df_weekly[\"PM2.5\"].plot(figsize=(12, 6), alpha=0.5)"
   ]
  },
  {
   "cell_type": "markdown",
   "id": "c2f2d35c",
   "metadata": {},
   "source": [
    "## Linear Regression\n",
    "\n",
    "for our current problem the hypothesis is:\n",
    "`hθ(x) = θ0 + θ1x1 + θ2x2`"
   ]
  },
  {
   "cell_type": "code",
   "execution_count": 73,
   "id": "340bcb07",
   "metadata": {},
   "outputs": [
    {
     "data": {
      "text/plain": [
       "Index(['PM2.5', 'PM10', 'O3', 'CO', 'SO2', 'NO2'], dtype='object')"
      ]
     },
     "execution_count": 73,
     "metadata": {},
     "output_type": "execute_result"
    }
   ],
   "source": []
  },
  {
   "cell_type": "code",
   "execution_count": null,
   "id": "d58e5764",
   "metadata": {},
   "outputs": [],
   "source": []
  },
  {
   "cell_type": "markdown",
   "id": "2884e797-10c3-4f56-9fc6-a6523ffe1919",
   "metadata": {},
   "source": [
    "## Comparing predictions to actual values"
   ]
  },
  {
   "cell_type": "code",
   "execution_count": 46,
   "id": "5b2dd953",
   "metadata": {},
   "outputs": [
    {
     "data": {
      "text/html": [
       "<div>\n",
       "<style scoped>\n",
       "    .dataframe tbody tr th:only-of-type {\n",
       "        vertical-align: middle;\n",
       "    }\n",
       "\n",
       "    .dataframe tbody tr th {\n",
       "        vertical-align: top;\n",
       "    }\n",
       "\n",
       "    .dataframe thead th {\n",
       "        text-align: right;\n",
       "    }\n",
       "</style>\n",
       "<table border=\"1\" class=\"dataframe\">\n",
       "  <thead>\n",
       "    <tr style=\"text-align: right;\">\n",
       "      <th></th>\n",
       "      <th>ds</th>\n",
       "      <th>trend</th>\n",
       "      <th>yhat_lower</th>\n",
       "      <th>yhat_upper</th>\n",
       "      <th>trend_lower</th>\n",
       "      <th>trend_upper</th>\n",
       "      <th>additive_terms</th>\n",
       "      <th>additive_terms_lower</th>\n",
       "      <th>additive_terms_upper</th>\n",
       "      <th>yearly</th>\n",
       "      <th>yearly_lower</th>\n",
       "      <th>yearly_upper</th>\n",
       "      <th>multiplicative_terms</th>\n",
       "      <th>multiplicative_terms_lower</th>\n",
       "      <th>multiplicative_terms_upper</th>\n",
       "      <th>yhat</th>\n",
       "    </tr>\n",
       "  </thead>\n",
       "  <tbody>\n",
       "    <tr>\n",
       "      <th>0</th>\n",
       "      <td>2019-07-14</td>\n",
       "      <td>107.274970</td>\n",
       "      <td>-6.134080</td>\n",
       "      <td>75.893263</td>\n",
       "      <td>107.274970</td>\n",
       "      <td>107.274970</td>\n",
       "      <td>-74.842576</td>\n",
       "      <td>-74.842576</td>\n",
       "      <td>-74.842576</td>\n",
       "      <td>-74.842576</td>\n",
       "      <td>-74.842576</td>\n",
       "      <td>-74.842576</td>\n",
       "      <td>0.0</td>\n",
       "      <td>0.0</td>\n",
       "      <td>0.0</td>\n",
       "      <td>32.432394</td>\n",
       "    </tr>\n",
       "    <tr>\n",
       "      <th>1</th>\n",
       "      <td>2019-07-21</td>\n",
       "      <td>107.095897</td>\n",
       "      <td>-11.860216</td>\n",
       "      <td>71.864566</td>\n",
       "      <td>107.095897</td>\n",
       "      <td>107.096561</td>\n",
       "      <td>-77.599631</td>\n",
       "      <td>-77.599631</td>\n",
       "      <td>-77.599631</td>\n",
       "      <td>-77.599631</td>\n",
       "      <td>-77.599631</td>\n",
       "      <td>-77.599631</td>\n",
       "      <td>0.0</td>\n",
       "      <td>0.0</td>\n",
       "      <td>0.0</td>\n",
       "      <td>29.496266</td>\n",
       "    </tr>\n",
       "    <tr>\n",
       "      <th>2</th>\n",
       "      <td>2019-07-28</td>\n",
       "      <td>106.916824</td>\n",
       "      <td>-13.992866</td>\n",
       "      <td>70.497699</td>\n",
       "      <td>106.915611</td>\n",
       "      <td>106.922590</td>\n",
       "      <td>-80.954995</td>\n",
       "      <td>-80.954995</td>\n",
       "      <td>-80.954995</td>\n",
       "      <td>-80.954995</td>\n",
       "      <td>-80.954995</td>\n",
       "      <td>-80.954995</td>\n",
       "      <td>0.0</td>\n",
       "      <td>0.0</td>\n",
       "      <td>0.0</td>\n",
       "      <td>25.961828</td>\n",
       "    </tr>\n",
       "    <tr>\n",
       "      <th>3</th>\n",
       "      <td>2019-08-04</td>\n",
       "      <td>106.737750</td>\n",
       "      <td>-17.291875</td>\n",
       "      <td>59.832537</td>\n",
       "      <td>106.731842</td>\n",
       "      <td>106.750928</td>\n",
       "      <td>-83.625372</td>\n",
       "      <td>-83.625372</td>\n",
       "      <td>-83.625372</td>\n",
       "      <td>-83.625372</td>\n",
       "      <td>-83.625372</td>\n",
       "      <td>-83.625372</td>\n",
       "      <td>0.0</td>\n",
       "      <td>0.0</td>\n",
       "      <td>0.0</td>\n",
       "      <td>23.112379</td>\n",
       "    </tr>\n",
       "    <tr>\n",
       "      <th>4</th>\n",
       "      <td>2019-08-11</td>\n",
       "      <td>106.558677</td>\n",
       "      <td>-16.489269</td>\n",
       "      <td>64.647404</td>\n",
       "      <td>106.544915</td>\n",
       "      <td>106.583049</td>\n",
       "      <td>-82.088571</td>\n",
       "      <td>-82.088571</td>\n",
       "      <td>-82.088571</td>\n",
       "      <td>-82.088571</td>\n",
       "      <td>-82.088571</td>\n",
       "      <td>-82.088571</td>\n",
       "      <td>0.0</td>\n",
       "      <td>0.0</td>\n",
       "      <td>0.0</td>\n",
       "      <td>24.470106</td>\n",
       "    </tr>\n",
       "  </tbody>\n",
       "</table>\n",
       "</div>"
      ],
      "text/plain": [
       "          ds       trend  yhat_lower  yhat_upper  trend_lower  trend_upper  additive_terms  additive_terms_lower  additive_terms_upper  \\\n",
       "0 2019-07-14  107.274970   -6.134080   75.893263   107.274970   107.274970      -74.842576            -74.842576            -74.842576   \n",
       "1 2019-07-21  107.095897  -11.860216   71.864566   107.095897   107.096561      -77.599631            -77.599631            -77.599631   \n",
       "2 2019-07-28  106.916824  -13.992866   70.497699   106.915611   106.922590      -80.954995            -80.954995            -80.954995   \n",
       "3 2019-08-04  106.737750  -17.291875   59.832537   106.731842   106.750928      -83.625372            -83.625372            -83.625372   \n",
       "4 2019-08-11  106.558677  -16.489269   64.647404   106.544915   106.583049      -82.088571            -82.088571            -82.088571   \n",
       "\n",
       "      yearly  yearly_lower  yearly_upper  multiplicative_terms  multiplicative_terms_lower  multiplicative_terms_upper       yhat  \n",
       "0 -74.842576    -74.842576    -74.842576                   0.0                         0.0                         0.0  32.432394  \n",
       "1 -77.599631    -77.599631    -77.599631                   0.0                         0.0                         0.0  29.496266  \n",
       "2 -80.954995    -80.954995    -80.954995                   0.0                         0.0                         0.0  25.961828  \n",
       "3 -83.625372    -83.625372    -83.625372                   0.0                         0.0                         0.0  23.112379  \n",
       "4 -82.088571    -82.088571    -82.088571                   0.0                         0.0                         0.0  24.470106  "
      ]
     },
     "execution_count": 46,
     "metadata": {},
     "output_type": "execute_result"
    }
   ],
   "source": [
    "forecast.head()"
   ]
  },
  {
   "cell_type": "code",
   "execution_count": 49,
   "id": "91ba7d68-1c1b-47cc-9bce-41bd9aca5b6a",
   "metadata": {},
   "outputs": [],
   "source": [
    "import matplotlib.pyplot as plt\n",
    "\n"
   ]
  },
  {
   "cell_type": "code",
   "execution_count": 68,
   "id": "317f22d0",
   "metadata": {},
   "outputs": [
    {
     "data": {
      "text/plain": [
       "<matplotlib.legend.Legend at 0x12e61a670>"
      ]
     },
     "execution_count": 68,
     "metadata": {},
     "output_type": "execute_result"
    },
    {
     "data": {
      "image/png": "[encoded data removed]",
      "text/plain": [
       "<Figure size 864x432 with 1 Axes>"
      ]
     },
     "metadata": {
      "needs_background": "light"
     },
     "output_type": "display_data"
    }
   ],
   "source": [
    "fig, ax = plt.subplots(figsize=(12, 6))\n",
    "\n",
    "forecast_series = forecast.set_index(keys=[\"ds\"]).iloc[-nobs:, :]\n",
    "ground_truth_series = test.rename(columns={\"Date\": \"ds\", \"PM2.5\": \"y\"}).set_index(\n",
    "    keys=[\"ds\"]\n",
    ")\n",
    "\n",
    "ground_truth_series[\"y\"].plot()\n",
    "forecast_series[\"yhat\"].plot()\n",
    "\n",
    "\n",
    "ax.legend([\"ground truth\", \"prediction\"])"
   ]
  },
  {
   "cell_type": "code",
   "execution_count": 69,
   "id": "052ae6c3",
   "metadata": {},
   "outputs": [
    {
     "data": {
      "text/plain": [
       "36.34970386744316"
      ]
     },
     "execution_count": 69,
     "metadata": {},
     "output_type": "execute_result"
    }
   ],
   "source": [
    "def calculate_RMSE(ground_truth, forecast):\n",
    "    return np.sqrt(np.mean((ground_truth - forecast) ** 2))\n",
    "\n",
    "\n",
    "calculate_RMSE(ground_truth_series[\"y\"], forecast_series[\"yhat\"])"
   ]
  },
  {
   "cell_type": "code",
   "execution_count": null,
   "id": "cc0216db-1926-4ff2-afb6-44ae9fa86444",
   "metadata": {},
   "outputs": [],
   "source": [
    "#TODO: take single year's data, make prediction, then 2 years etc. (which timespan gives best prediction?)\n",
    "#TODO: try a prediction for 2023 (each Indian city)\n",
    "#TODO: Plot weekly prediction for each city\n",
    "# consdier location in country also\n",
    "\n",
    "# External datasets as well - wind speed / direction & temperature\n",
    "# Which method performs best with Pollution data\n",
    "# Which metrics to use to find which method perform the best"
   ]
  }
 ],
 "metadata": {
  "kernelspec": {
   "display_name": "Python 3.9.13 ('india-air-pollution-study-xopDDJl_-py3.9')",
   "language": "python",
   "name": "python3"
  },
  "language_info": {
   "codemirror_mode": {
    "name": "ipython",
    "version": 3
   },
   "file_extension": ".py",
   "mimetype": "text/x-python",
   "name": "python",
   "nbconvert_exporter": "python",
   "pygments_lexer": "ipython3",
   "version": "3.9.9"
  },
  "vscode": {
   "interpreter": {
    "hash": "55ba992d1cba682b02aa5f2d2236ee23bc6a7a5856dcb19c56312461ac84880a"
   }
  }
 },
 "nbformat": 4,
 "nbformat_minor": 5
}
