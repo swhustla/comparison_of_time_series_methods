{
 "cells": [
  {
   "cell_type": "code",
   "execution_count": 1,
   "metadata": {},
   "outputs": [],
   "source": [
    "import pandas as pd\n",
    "import numpy as np\n",
    "import requests\n",
    "import io\n",
    "from sklearn.model_selection import TimeSeriesSplit\n",
    "import xgboost as xgb\n",
    "from sklearn.preprocessing import StandardScaler\n",
    "import matplotlib.pyplot as plt\n",
    "import seaborn as sns\n",
    "from lime.lime_tabular import LimeTabularExplainer\n",
    "\n",
    "# import pyreadr module\n",
    "import pyreadr\n"
   ]
  },
  {
   "cell_type": "code",
   "execution_count": 2,
   "metadata": {},
   "outputs": [],
   "source": [
    "def get_energy_demand(scale: bool = True) -> pd.DataFrame: \n",
    "    resp = requests.get( \n",
    "        \"https://github.com/camroach87/gefcom2017data/raw/master/data/gefcom.rda\", \n",
    "        allow_redirects=True, \n",
    "    ) \n",
    "    open(\"gefcom.rda\", \"wb\").write(resp.content) \n",
    "    result = pyreadr.read_r(\"gefcom.rda\") \n",
    "    df = result[\"gefcom\"].pivot(index=\"ts\", columns=\"zone\", values=\"demand\") \n",
    "    df = df.asfreq(\"D\") \n",
    "    if not scale: \n",
    "        return df \n",
    "    return pd.DataFrame( \n",
    "        data=StandardScaler().fit_transform(df), columns=df.columns, index=df.index \n",
    "    ) \n",
    " \n"
   ]
  },
  {
   "cell_type": "code",
   "execution_count": 6,
   "metadata": {},
   "outputs": [
    {
     "name": "stdout",
     "output_type": "stream",
     "text": [
      "zone            CT    MASS      ME  NEMASSBOST      NH     RI  SEMASS  \\\n",
      "ts                                                                      \n",
      "2003-03-01  3386.0  5913.0  1111.0      2574.0  1055.0  791.0  1484.0   \n",
      "2003-03-02  3122.0  5449.0  1033.0      2407.0   963.0  737.0  1357.0   \n",
      "\n",
      "zone          TOTAL     VT  WCMASS  \n",
      "ts                                  \n",
      "2003-03-01  12864.0  608.0  1855.0  \n",
      "2003-03-02  11862.0  558.0  1685.0  \n"
     ]
    }
   ],
   "source": [
    "\n",
    "\n",
    "# (a) Download and clean up the Connecticut time series energy data\n",
    "\n",
    "energy_data = get_energy_demand(scale=False)\n",
    "print(energy_data.head(2))\n",
    "energy_data = energy_data[['CT']]\n",
    "energy_data = energy_data.loc[energy_data.index.year == 2017]\n"
   ]
  },
  {
   "cell_type": "code",
   "execution_count": null,
   "metadata": {},
   "outputs": [],
   "source": [
    "\n",
    "# (b) Download and clean up 2 suitable exogenous variables\n",
    "# For this example, I'll use historical weather data from the National Oceanic and Atmospheric Administration (NOAA)\n",
    "# We'll use the average temperature and precipitation data for Hartford, CT\n",
    "\n",
    "# You can replace the API key with your own key from https://www.ncdc.noaa.gov/cdo-web/webservices/v2\n",
    "API_KEY = 'your_api_key_here'\n",
    "start_date = '2017-01-01'\n",
    "end_date = '2017-12-31'\n",
    "station_id = 'GHCND:USW00014740'  # Weather station ID for Hartford, CT\n",
    "\n",
    "url = f'https://www.ncei.noaa.gov/access/services/data/v1?dataset=daily-summaries&dataTypes=TAVG,PRCP&stations={station_id}&startDate={start_date}&endDate={end_date}&includeAttributes=true&format=csv&units=standard&limit=1000&apiKey={API_KEY}'\n",
    "response = requests.get(url)\n",
    "weather_data = pd.read_csv(io.StringIO(response.text), parse_dates=['DATE'], index_col='DATE')\n",
    "weather_data = weather_data[['TAVG', 'PRCP']]\n"
   ]
  },
  {
   "cell_type": "code",
   "execution_count": null,
   "metadata": {},
   "outputs": [],
   "source": [
    "\n",
    "# (c) Combine the two datasets and create column features for week, month, year\n",
    "combined_data = energy_data.join(weather_data)\n",
    "combined_data['Year'] = combined_data.index.year\n",
    "combined_data['Month'] = combined_data.index.month\n",
    "combined_data['Week'] = combined_data.index.week\n",
    "combined_data['Day'] = combined_data.index.day\n"
   ]
  },
  {
   "cell_type": "code",
   "execution_count": null,
   "metadata": {},
   "outputs": [],
   "source": [
    "\n",
    "# Split into train and test (80/20, not shuffled)\n",
    "tscv = TimeSeriesSplit(n_splits=2)\n",
    "for train_index, test_index in tscv.split(combined_data):\n",
    "    train_data = combined_data.iloc[train_index]\n",
    "    test_data = combined_data.iloc[test_index]\n"
   ]
  },
  {
   "cell_type": "code",
   "execution_count": null,
   "metadata": {},
   "outputs": [],
   "source": [
    "\n",
    "# (d) Initialize an XGBoost model for time series (can fine tune learning rate, max depth, etc.)\n",
    "model = xgb.XGBRegressor(objective='reg:squarederror', n_estimators=1000, learning_rate=0.1, max_depth=5, subsample=0.8, colsample_bytree=0.8, n_jobs=-1)\n"
   ]
  },
  {
   "cell_type": "code",
   "execution_count": null,
   "metadata": {},
   "outputs": [],
   "source": [
    "\n",
    "# (e) Train the resulting model on a multivariate problem\n",
    "X_train, y_train = train_data.drop('Consumption', axis=1), train_data['Consumption']\n",
    "X_test, y_test = test_data.drop('Consumption', axis=1), test_data['Consumption']\n",
    "model.fit(X_train, y_train)\n",
    "\n",
    "\n"
   ]
  },
  {
   "cell_type": "code",
   "execution_count": null,
   "metadata": {},
   "outputs": [],
   "source": [
    "\n",
    "# (f) Plot the time series prediction with confidence intervals\n",
    "y_pred = model.predict(X_test)\n",
    "confidence_interval = 1.96 * np.std(y_pred) / np.mean(y_pred)\n",
    "\n",
    "fig, ax = plt.subplots(figsize=(12, 6))\n",
    "sns.lineplot(x=test_data.index, y=y_test, label='Ground truth', ax=ax)\n",
    "sns.lineplot(x=test_data.index, y=y_pred, label='Prediction', ax=ax)\n",
    "ax.fill_between(test_data.index, (y_pred - confidence_interval), (y_pred + confidence_interval), color='b', alpha=.1, label='Confidence interval')\n",
    "\n",
    "plt.title('XGBoost time series prediction')\n",
    "plt.xlabel('Date')\n",
    "plt.ylabel('Energy consumption')\n",
    "plt.legend()\n",
    "plt.show()\n"
   ]
  },
  {
   "cell_type": "code",
   "execution_count": null,
   "metadata": {},
   "outputs": [],
   "source": [
    "\n",
    "# (g) Perform feature importance using the LIME library\n",
    "explainer = LimeTabularExplainer(X_train.values,\n",
    "                                 feature_names=X_train.columns,\n",
    "                                 class_names=['Consumption'],\n",
    "                                 mode='regression')\n",
    "\n",
    "# Select a specific instance for explanation\n",
    "instance = X_test.iloc[10].values\n",
    "exp = explainer.explain_instance(instance, model.predict, num_features=len(X_train.columns))\n",
    "\n",
    "# Show relative importance of features\n",
    "exp.show_in_notebook(show_table=True)\n",
    "\n",
    "# Show the local linear approximation of the model\n",
    "exp.as_pyplot_figure()\n",
    "\n"
   ]
  }
 ],
 "metadata": {
  "kernelspec": {
   "display_name": "india-air-pollution-study-xopDDJl_-py3.10",
   "language": "python",
   "name": "python3"
  },
  "language_info": {
   "codemirror_mode": {
    "name": "ipython",
    "version": 3
   },
   "file_extension": ".py",
   "mimetype": "text/x-python",
   "name": "python",
   "nbconvert_exporter": "python",
   "pygments_lexer": "ipython3",
   "version": "3.10.8"
  },
  "orig_nbformat": 4
 },
 "nbformat": 4,
 "nbformat_minor": 2
}
