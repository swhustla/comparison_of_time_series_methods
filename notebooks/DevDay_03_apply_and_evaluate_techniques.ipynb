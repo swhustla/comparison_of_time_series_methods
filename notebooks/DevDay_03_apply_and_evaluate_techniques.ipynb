{
 "cells": [
  {
   "attachments": {},
   "cell_type": "markdown",
   "metadata": {},
   "source": [
    "# DevDay 03: Apply and evaluate techniques\n",
    "* Showcase the implementation of various forecasting methods using Python and popular libraries like pandas, scikit-learn, TensorFlow, or Prophet.\n",
    "* Evaluate and compare the performance of each method on the chosen dataset."
   ]
  },
  {
   "cell_type": "code",
   "execution_count": null,
   "metadata": {},
   "outputs": [],
   "source": [
    "import pandas as pd\n",
    "import sys\n",
    "import os\n",
    "\n",
    "from typing import TypeVar, Any\n",
    "\n",
    "import matplotlib.pyplot as plt \n",
    "\n",
    "\n",
    "sys.path.append(os.path.abspath(os.path.join(os.path.dirname(\".\"), \"..\")))\n",
    "\n",
    "from data.india_pollution import india_pollution\n",
    "from data.electricity_consumption import energy_demand\n",
    "\n",
    "from data.dataset import Dataset\n",
    "\n"
   ]
  },
  {
   "cell_type": "code",
   "execution_count": null,
   "metadata": {},
   "outputs": [],
   "source": []
  },
  {
   "cell_type": "markdown",
   "metadata": {},
   "source": []
  }
 ],
 "metadata": {
  "language_info": {
   "name": "python"
  },
  "orig_nbformat": 4
 },
 "nbformat": 4,
 "nbformat_minor": 2
}
