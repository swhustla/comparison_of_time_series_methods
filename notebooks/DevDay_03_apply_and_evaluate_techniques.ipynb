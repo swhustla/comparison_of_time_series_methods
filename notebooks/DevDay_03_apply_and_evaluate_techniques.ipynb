{
 "cells": [
  {
   "attachments": {},
   "cell_type": "markdown",
   "metadata": {},
   "source": [
    "# DevDay 03: Apply and evaluate techniques\n",
    "* Showcase the implementation of various forecasting methods using Python and popular libraries like pandas, scikit-learn, TensorFlow, or Prophet.\n",
    "* Evaluate and compare the performance of each method on the chosen dataset."
   ]
  },
  {
   "cell_type": "code",
   "execution_count": 2,
   "metadata": {},
   "outputs": [
    {
     "name": "stderr",
     "output_type": "stream",
     "text": [
      "/Users/frankkelly/Library/Caches/pypoetry/virtualenvs/india-air-pollution-study-xopDDJl_-py3.10/lib/python3.10/site-packages/tqdm/auto.py:22: TqdmWarning: IProgress not found. Please update jupyter and ipywidgets. See https://ipywidgets.readthedocs.io/en/stable/user_install.html\n",
      "  from .autonotebook import tqdm as notebook_tqdm\n"
     ]
    }
   ],
   "source": [
    "import pandas as pd\n",
    "import sys\n",
    "import os\n",
    "\n",
    "from typing import TypeVar, Any\n",
    "\n",
    "import matplotlib.pyplot as plt \n",
    "\n",
    "\n",
    "sys.path.append(os.path.abspath(os.path.join(os.path.dirname(\".\"), \"..\")))\n",
    "\n",
    "# datasets\n",
    "from data.airline_passengers import airline_passengers\n",
    "from data.india_pollution import india_pollution\n",
    "from data.electricity_consumption import energy_demand\n",
    "\n",
    "from data.dataset import Dataset\n",
    "\n",
    "# prediction methods\n",
    "from predictions.AR import ar\n",
    "from predictions.MA import ma\n",
    "from predictions.HoltWinters import holt_winters\n",
    "from predictions.ARIMA import arima\n",
    "from predictions.SARIMA import sarima\n",
    "from predictions.auto_arima import auto_arima\n",
    "from predictions.linear_regression import linear_regression\n",
    "from predictions.prophet import prophet\n",
    "from predictions.SES import ses\n"
   ]
  },
  {
   "cell_type": "code",
   "execution_count": 3,
   "metadata": {},
   "outputs": [
    {
     "ename": "AttributeError",
     "evalue": "'Dataset' object has no attribute 'data'",
     "output_type": "error",
     "traceback": [
      "\u001b[0;31m---------------------------------------------------------------------------\u001b[0m",
      "\u001b[0;31mAttributeError\u001b[0m                            Traceback (most recent call last)",
      "Cell \u001b[0;32mIn[3], line 4\u001b[0m\n\u001b[1;32m      1\u001b[0m \u001b[39m# \u001b[39;00m\n\u001b[1;32m      2\u001b[0m airline_passengers_dataset \u001b[39m=\u001b[39m airline_passengers()\n\u001b[0;32m----> 4\u001b[0m \u001b[39mprint\u001b[39m(airline_passengers_dataset\u001b[39m.\u001b[39;49mdata\u001b[39m.\u001b[39mhead())\n",
      "\u001b[0;31mAttributeError\u001b[0m: 'Dataset' object has no attribute 'data'"
     ]
    }
   ],
   "source": [
    "# \n",
    "airline_passengers_dataset = airline_passengers()\n"
   ]
  },
  {
   "cell_type": "code",
   "execution_count": null,
   "metadata": {},
   "outputs": [],
   "source": [
    "\n",
    "print(airline_passengers_dataset.data.head())"
   ]
  },
  {
   "cell_type": "markdown",
   "metadata": {},
   "source": []
  }
 ],
 "metadata": {
  "kernelspec": {
   "display_name": "india-air-pollution-study-xopDDJl_-py3.10",
   "language": "python",
   "name": "python3"
  },
  "language_info": {
   "codemirror_mode": {
    "name": "ipython",
    "version": 3
   },
   "file_extension": ".py",
   "mimetype": "text/x-python",
   "name": "python",
   "nbconvert_exporter": "python",
   "pygments_lexer": "ipython3",
   "version": "3.10.8"
  },
  "orig_nbformat": 4
 },
 "nbformat": 4,
 "nbformat_minor": 2
}
