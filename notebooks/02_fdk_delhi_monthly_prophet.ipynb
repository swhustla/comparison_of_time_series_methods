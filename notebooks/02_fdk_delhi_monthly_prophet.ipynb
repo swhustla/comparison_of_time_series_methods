{
 "cells": [
  {
   "cell_type": "markdown",
   "id": "733f6672-b4f6-482b-9cfc-337ad8ed5233",
   "metadata": {},
   "source": [
    "# Predict monthly data, single city"
   ]
  },
  {
   "cell_type": "code",
   "execution_count": 1,
   "id": "41dc0d23-91c2-466b-9a58-5705938189b9",
   "metadata": {},
   "outputs": [
    {
     "name": "stderr",
     "output_type": "stream",
     "text": [
      "/Users/frankkelly/Library/Caches/pypoetry/virtualenvs/india-air-pollution-study-xopDDJl_-py3.9/lib/python3.9/site-packages/tqdm/auto.py:22: TqdmWarning: IProgress not found. Please update jupyter and ipywidgets. See https://ipywidgets.readthedocs.io/en/stable/user_install.html\n",
      "  from .autonotebook import tqdm as notebook_tqdm\n"
     ]
    }
   ],
   "source": [
    "import os\n",
    "from pathlib import Path\n",
    "from prophet import Prophet\n",
    "\n",
    "%matplotlib inline\n",
    "%load_ext autoreload\n",
    "%autoreload 2\n",
    "%load_ext lab_black"
   ]
  },
  {
   "cell_type": "code",
   "execution_count": 2,
   "id": "56ea4017-97a5-44b3-8faa-627f444a1ae3",
   "metadata": {},
   "outputs": [],
   "source": [
    "iskaggle = os.environ.get(\"KAGGLE_KERNEL_RUN_TYPE\", \"\")\n",
    "if iskaggle:\n",
    "    path = Path(\"../rohanrao/air-quality-data-in-india\")\n",
    "else:\n",
    "    full_path = Path(\"rohanrao/air-quality-data-in-india\")\n",
    "    owner_slug = str(full_path).split(\"/\")[0]\n",
    "    dataset_slug = str(full_path).split(\"/\")[1]\n",
    "    path = Path(dataset_slug)\n",
    "    if not path.exists():\n",
    "        import zipfile, kaggle\n",
    "\n",
    "        kaggle.api.datasets_download(owner_slug=owner_slug, dataset_slug=dataset_slug)"
   ]
  },
  {
   "cell_type": "code",
   "execution_count": 3,
   "id": "8795bd88-afaa-4233-877e-ddf2ce8cb794",
   "metadata": {},
   "outputs": [],
   "source": [
    "import zipfile\n",
    "\n",
    "zipfile.ZipFile(f\"{dataset_slug}.zip\").extractall(dataset_slug)"
   ]
  },
  {
   "cell_type": "code",
   "execution_count": 4,
   "id": "c6c702d4-1902-4696-8d05-8daec7181ac9",
   "metadata": {},
   "outputs": [],
   "source": [
    "import torch, numpy as np, pandas as pd"
   ]
  },
  {
   "cell_type": "code",
   "execution_count": 5,
   "id": "fb1ded4c-a6a2-461f-b6e6-aecfd0352c72",
   "metadata": {},
   "outputs": [],
   "source": [
    "np.set_printoptions(linewidth=140)\n",
    "torch.set_printoptions(linewidth=140, sci_mode=False, edgeitems=7)\n",
    "pd.set_option(\"display.width\", 140)"
   ]
  },
  {
   "cell_type": "code",
   "execution_count": 6,
   "id": "fcbcaee2-eca3-4732-a2df-fff15abae8e7",
   "metadata": {},
   "outputs": [
    {
     "data": {
      "text/html": [
       "<div>\n",
       "<style scoped>\n",
       "    .dataframe tbody tr th:only-of-type {\n",
       "        vertical-align: middle;\n",
       "    }\n",
       "\n",
       "    .dataframe tbody tr th {\n",
       "        vertical-align: top;\n",
       "    }\n",
       "\n",
       "    .dataframe thead th {\n",
       "        text-align: right;\n",
       "    }\n",
       "</style>\n",
       "<table border=\"1\" class=\"dataframe\">\n",
       "  <thead>\n",
       "    <tr style=\"text-align: right;\">\n",
       "      <th></th>\n",
       "      <th>City</th>\n",
       "      <th>Date</th>\n",
       "      <th>PM2.5</th>\n",
       "      <th>PM10</th>\n",
       "      <th>NO</th>\n",
       "      <th>NO2</th>\n",
       "      <th>NOx</th>\n",
       "      <th>NH3</th>\n",
       "      <th>CO</th>\n",
       "      <th>SO2</th>\n",
       "      <th>O3</th>\n",
       "      <th>Benzene</th>\n",
       "      <th>Toluene</th>\n",
       "      <th>Xylene</th>\n",
       "      <th>AQI</th>\n",
       "      <th>AQI_Bucket</th>\n",
       "    </tr>\n",
       "  </thead>\n",
       "  <tbody>\n",
       "    <tr>\n",
       "      <th>0</th>\n",
       "      <td>Ahmedabad</td>\n",
       "      <td>2015-01-01</td>\n",
       "      <td>NaN</td>\n",
       "      <td>NaN</td>\n",
       "      <td>0.92</td>\n",
       "      <td>18.22</td>\n",
       "      <td>17.15</td>\n",
       "      <td>NaN</td>\n",
       "      <td>0.92</td>\n",
       "      <td>27.64</td>\n",
       "      <td>133.36</td>\n",
       "      <td>0.00</td>\n",
       "      <td>0.02</td>\n",
       "      <td>0.00</td>\n",
       "      <td>NaN</td>\n",
       "      <td>NaN</td>\n",
       "    </tr>\n",
       "    <tr>\n",
       "      <th>1</th>\n",
       "      <td>Ahmedabad</td>\n",
       "      <td>2015-01-02</td>\n",
       "      <td>NaN</td>\n",
       "      <td>NaN</td>\n",
       "      <td>0.97</td>\n",
       "      <td>15.69</td>\n",
       "      <td>16.46</td>\n",
       "      <td>NaN</td>\n",
       "      <td>0.97</td>\n",
       "      <td>24.55</td>\n",
       "      <td>34.06</td>\n",
       "      <td>3.68</td>\n",
       "      <td>5.50</td>\n",
       "      <td>3.77</td>\n",
       "      <td>NaN</td>\n",
       "      <td>NaN</td>\n",
       "    </tr>\n",
       "    <tr>\n",
       "      <th>2</th>\n",
       "      <td>Ahmedabad</td>\n",
       "      <td>2015-01-03</td>\n",
       "      <td>NaN</td>\n",
       "      <td>NaN</td>\n",
       "      <td>17.40</td>\n",
       "      <td>19.30</td>\n",
       "      <td>29.70</td>\n",
       "      <td>NaN</td>\n",
       "      <td>17.40</td>\n",
       "      <td>29.07</td>\n",
       "      <td>30.70</td>\n",
       "      <td>6.80</td>\n",
       "      <td>16.40</td>\n",
       "      <td>2.25</td>\n",
       "      <td>NaN</td>\n",
       "      <td>NaN</td>\n",
       "    </tr>\n",
       "    <tr>\n",
       "      <th>3</th>\n",
       "      <td>Ahmedabad</td>\n",
       "      <td>2015-01-04</td>\n",
       "      <td>NaN</td>\n",
       "      <td>NaN</td>\n",
       "      <td>1.70</td>\n",
       "      <td>18.48</td>\n",
       "      <td>17.97</td>\n",
       "      <td>NaN</td>\n",
       "      <td>1.70</td>\n",
       "      <td>18.59</td>\n",
       "      <td>36.08</td>\n",
       "      <td>4.43</td>\n",
       "      <td>10.14</td>\n",
       "      <td>1.00</td>\n",
       "      <td>NaN</td>\n",
       "      <td>NaN</td>\n",
       "    </tr>\n",
       "    <tr>\n",
       "      <th>4</th>\n",
       "      <td>Ahmedabad</td>\n",
       "      <td>2015-01-05</td>\n",
       "      <td>NaN</td>\n",
       "      <td>NaN</td>\n",
       "      <td>22.10</td>\n",
       "      <td>21.42</td>\n",
       "      <td>37.76</td>\n",
       "      <td>NaN</td>\n",
       "      <td>22.10</td>\n",
       "      <td>39.33</td>\n",
       "      <td>39.31</td>\n",
       "      <td>7.01</td>\n",
       "      <td>18.89</td>\n",
       "      <td>2.78</td>\n",
       "      <td>NaN</td>\n",
       "      <td>NaN</td>\n",
       "    </tr>\n",
       "    <tr>\n",
       "      <th>...</th>\n",
       "      <td>...</td>\n",
       "      <td>...</td>\n",
       "      <td>...</td>\n",
       "      <td>...</td>\n",
       "      <td>...</td>\n",
       "      <td>...</td>\n",
       "      <td>...</td>\n",
       "      <td>...</td>\n",
       "      <td>...</td>\n",
       "      <td>...</td>\n",
       "      <td>...</td>\n",
       "      <td>...</td>\n",
       "      <td>...</td>\n",
       "      <td>...</td>\n",
       "      <td>...</td>\n",
       "      <td>...</td>\n",
       "    </tr>\n",
       "    <tr>\n",
       "      <th>29526</th>\n",
       "      <td>Visakhapatnam</td>\n",
       "      <td>2020-06-27</td>\n",
       "      <td>15.02</td>\n",
       "      <td>50.94</td>\n",
       "      <td>7.68</td>\n",
       "      <td>25.06</td>\n",
       "      <td>19.54</td>\n",
       "      <td>12.47</td>\n",
       "      <td>0.47</td>\n",
       "      <td>8.55</td>\n",
       "      <td>23.30</td>\n",
       "      <td>2.24</td>\n",
       "      <td>12.07</td>\n",
       "      <td>0.73</td>\n",
       "      <td>41.0</td>\n",
       "      <td>Good</td>\n",
       "    </tr>\n",
       "    <tr>\n",
       "      <th>29527</th>\n",
       "      <td>Visakhapatnam</td>\n",
       "      <td>2020-06-28</td>\n",
       "      <td>24.38</td>\n",
       "      <td>74.09</td>\n",
       "      <td>3.42</td>\n",
       "      <td>26.06</td>\n",
       "      <td>16.53</td>\n",
       "      <td>11.99</td>\n",
       "      <td>0.52</td>\n",
       "      <td>12.72</td>\n",
       "      <td>30.14</td>\n",
       "      <td>0.74</td>\n",
       "      <td>2.21</td>\n",
       "      <td>0.38</td>\n",
       "      <td>70.0</td>\n",
       "      <td>Satisfactory</td>\n",
       "    </tr>\n",
       "    <tr>\n",
       "      <th>29528</th>\n",
       "      <td>Visakhapatnam</td>\n",
       "      <td>2020-06-29</td>\n",
       "      <td>22.91</td>\n",
       "      <td>65.73</td>\n",
       "      <td>3.45</td>\n",
       "      <td>29.53</td>\n",
       "      <td>18.33</td>\n",
       "      <td>10.71</td>\n",
       "      <td>0.48</td>\n",
       "      <td>8.42</td>\n",
       "      <td>30.96</td>\n",
       "      <td>0.01</td>\n",
       "      <td>0.01</td>\n",
       "      <td>0.00</td>\n",
       "      <td>68.0</td>\n",
       "      <td>Satisfactory</td>\n",
       "    </tr>\n",
       "    <tr>\n",
       "      <th>29529</th>\n",
       "      <td>Visakhapatnam</td>\n",
       "      <td>2020-06-30</td>\n",
       "      <td>16.64</td>\n",
       "      <td>49.97</td>\n",
       "      <td>4.05</td>\n",
       "      <td>29.26</td>\n",
       "      <td>18.80</td>\n",
       "      <td>10.03</td>\n",
       "      <td>0.52</td>\n",
       "      <td>9.84</td>\n",
       "      <td>28.30</td>\n",
       "      <td>0.00</td>\n",
       "      <td>0.00</td>\n",
       "      <td>0.00</td>\n",
       "      <td>54.0</td>\n",
       "      <td>Satisfactory</td>\n",
       "    </tr>\n",
       "    <tr>\n",
       "      <th>29530</th>\n",
       "      <td>Visakhapatnam</td>\n",
       "      <td>2020-07-01</td>\n",
       "      <td>15.00</td>\n",
       "      <td>66.00</td>\n",
       "      <td>0.40</td>\n",
       "      <td>26.85</td>\n",
       "      <td>14.05</td>\n",
       "      <td>5.20</td>\n",
       "      <td>0.59</td>\n",
       "      <td>2.10</td>\n",
       "      <td>17.05</td>\n",
       "      <td>NaN</td>\n",
       "      <td>NaN</td>\n",
       "      <td>NaN</td>\n",
       "      <td>50.0</td>\n",
       "      <td>Good</td>\n",
       "    </tr>\n",
       "  </tbody>\n",
       "</table>\n",
       "<p>29531 rows × 16 columns</p>\n",
       "</div>"
      ],
      "text/plain": [
       "                City        Date  PM2.5   PM10     NO    NO2    NOx    NH3     CO    SO2      O3  Benzene  Toluene  Xylene   AQI  \\\n",
       "0          Ahmedabad  2015-01-01    NaN    NaN   0.92  18.22  17.15    NaN   0.92  27.64  133.36     0.00     0.02    0.00   NaN   \n",
       "1          Ahmedabad  2015-01-02    NaN    NaN   0.97  15.69  16.46    NaN   0.97  24.55   34.06     3.68     5.50    3.77   NaN   \n",
       "2          Ahmedabad  2015-01-03    NaN    NaN  17.40  19.30  29.70    NaN  17.40  29.07   30.70     6.80    16.40    2.25   NaN   \n",
       "3          Ahmedabad  2015-01-04    NaN    NaN   1.70  18.48  17.97    NaN   1.70  18.59   36.08     4.43    10.14    1.00   NaN   \n",
       "4          Ahmedabad  2015-01-05    NaN    NaN  22.10  21.42  37.76    NaN  22.10  39.33   39.31     7.01    18.89    2.78   NaN   \n",
       "...              ...         ...    ...    ...    ...    ...    ...    ...    ...    ...     ...      ...      ...     ...   ...   \n",
       "29526  Visakhapatnam  2020-06-27  15.02  50.94   7.68  25.06  19.54  12.47   0.47   8.55   23.30     2.24    12.07    0.73  41.0   \n",
       "29527  Visakhapatnam  2020-06-28  24.38  74.09   3.42  26.06  16.53  11.99   0.52  12.72   30.14     0.74     2.21    0.38  70.0   \n",
       "29528  Visakhapatnam  2020-06-29  22.91  65.73   3.45  29.53  18.33  10.71   0.48   8.42   30.96     0.01     0.01    0.00  68.0   \n",
       "29529  Visakhapatnam  2020-06-30  16.64  49.97   4.05  29.26  18.80  10.03   0.52   9.84   28.30     0.00     0.00    0.00  54.0   \n",
       "29530  Visakhapatnam  2020-07-01  15.00  66.00   0.40  26.85  14.05   5.20   0.59   2.10   17.05      NaN      NaN     NaN  50.0   \n",
       "\n",
       "         AQI_Bucket  \n",
       "0               NaN  \n",
       "1               NaN  \n",
       "2               NaN  \n",
       "3               NaN  \n",
       "4               NaN  \n",
       "...             ...  \n",
       "29526          Good  \n",
       "29527  Satisfactory  \n",
       "29528  Satisfactory  \n",
       "29529  Satisfactory  \n",
       "29530          Good  \n",
       "\n",
       "[29531 rows x 16 columns]"
      ]
     },
     "execution_count": 6,
     "metadata": {},
     "output_type": "execute_result"
    }
   ],
   "source": [
    "df = pd.read_csv(path / \"city_day.csv\")\n",
    "df"
   ]
  },
  {
   "cell_type": "code",
   "execution_count": 7,
   "id": "385da36f-2c27-4a8f-a0c5-9ca7f2541039",
   "metadata": {},
   "outputs": [
    {
     "data": {
      "text/plain": [
       "City           object\n",
       "Date           object\n",
       "PM2.5         float64\n",
       "PM10          float64\n",
       "NO            float64\n",
       "NO2           float64\n",
       "NOx           float64\n",
       "NH3           float64\n",
       "CO            float64\n",
       "SO2           float64\n",
       "O3            float64\n",
       "Benzene       float64\n",
       "Toluene       float64\n",
       "Xylene        float64\n",
       "AQI           float64\n",
       "AQI_Bucket     object\n",
       "dtype: object"
      ]
     },
     "execution_count": 7,
     "metadata": {},
     "output_type": "execute_result"
    }
   ],
   "source": [
    "df.dtypes"
   ]
  },
  {
   "cell_type": "code",
   "execution_count": 8,
   "id": "ad52d475-ad36-476e-ab81-d9340e94b0a1",
   "metadata": {},
   "outputs": [
    {
     "data": {
      "text/plain": [
       "City                  object\n",
       "Date          datetime64[ns]\n",
       "PM2.5                float64\n",
       "PM10                 float64\n",
       "NO                   float64\n",
       "NO2                  float64\n",
       "NOx                  float64\n",
       "NH3                  float64\n",
       "CO                   float64\n",
       "SO2                  float64\n",
       "O3                   float64\n",
       "Benzene              float64\n",
       "Toluene              float64\n",
       "Xylene               float64\n",
       "AQI                  float64\n",
       "AQI_Bucket            object\n",
       "dtype: object"
      ]
     },
     "execution_count": 8,
     "metadata": {},
     "output_type": "execute_result"
    }
   ],
   "source": [
    "df.Date = pd.to_datetime(df.Date)\n",
    "df.dtypes"
   ]
  },
  {
   "cell_type": "code",
   "execution_count": 9,
   "id": "db826aa4-296c-4845-ba3c-9a55a8cc9105",
   "metadata": {},
   "outputs": [
    {
     "data": {
      "text/plain": [
       "City              0\n",
       "Date              0\n",
       "PM2.5          4598\n",
       "PM10          11140\n",
       "NO             3582\n",
       "NO2            3585\n",
       "NOx            4185\n",
       "NH3           10328\n",
       "CO             2059\n",
       "SO2            3854\n",
       "O3             4022\n",
       "Benzene        5623\n",
       "Toluene        8041\n",
       "Xylene        18109\n",
       "AQI            4681\n",
       "AQI_Bucket     4681\n",
       "dtype: int64"
      ]
     },
     "execution_count": 9,
     "metadata": {},
     "output_type": "execute_result"
    }
   ],
   "source": [
    "df.isna().sum()"
   ]
  },
  {
   "cell_type": "code",
   "execution_count": 10,
   "id": "1c072714-fc9d-4aa5-a4bd-e84449341e58",
   "metadata": {},
   "outputs": [
    {
     "data": {
      "text/plain": [
       "City                    Ahmedabad\n",
       "Date          2020-03-11 00:00:00\n",
       "PM2.5                        11.0\n",
       "PM10                         94.0\n",
       "NO                           5.93\n",
       "NO2                         10.58\n",
       "NOx                           0.0\n",
       "NH3                          6.29\n",
       "CO                            0.0\n",
       "SO2                          5.74\n",
       "O3                          16.48\n",
       "Benzene                       0.0\n",
       "Toluene                       0.0\n",
       "Xylene                        0.0\n",
       "AQI                         102.0\n",
       "AQI_Bucket               Moderate\n",
       "Name: 0, dtype: object"
      ]
     },
     "execution_count": 10,
     "metadata": {},
     "output_type": "execute_result"
    }
   ],
   "source": [
    "modes = df.mode().iloc[0]\n",
    "modes"
   ]
  },
  {
   "cell_type": "code",
   "execution_count": 11,
   "id": "6431061f-df81-441c-ab49-0e49db1355e0",
   "metadata": {},
   "outputs": [
    {
     "data": {
      "text/html": [
       "<div>\n",
       "<style scoped>\n",
       "    .dataframe tbody tr th:only-of-type {\n",
       "        vertical-align: middle;\n",
       "    }\n",
       "\n",
       "    .dataframe tbody tr th {\n",
       "        vertical-align: top;\n",
       "    }\n",
       "\n",
       "    .dataframe thead th {\n",
       "        text-align: right;\n",
       "    }\n",
       "</style>\n",
       "<table border=\"1\" class=\"dataframe\">\n",
       "  <thead>\n",
       "    <tr style=\"text-align: right;\">\n",
       "      <th></th>\n",
       "      <th>PM2.5</th>\n",
       "      <th>PM10</th>\n",
       "      <th>NO</th>\n",
       "      <th>NO2</th>\n",
       "      <th>NOx</th>\n",
       "      <th>NH3</th>\n",
       "      <th>CO</th>\n",
       "      <th>SO2</th>\n",
       "      <th>O3</th>\n",
       "      <th>Benzene</th>\n",
       "      <th>Toluene</th>\n",
       "      <th>Xylene</th>\n",
       "      <th>AQI</th>\n",
       "    </tr>\n",
       "  </thead>\n",
       "  <tbody>\n",
       "    <tr>\n",
       "      <th>count</th>\n",
       "      <td>24933.000000</td>\n",
       "      <td>18391.000000</td>\n",
       "      <td>25949.000000</td>\n",
       "      <td>25946.000000</td>\n",
       "      <td>25346.000000</td>\n",
       "      <td>19203.000000</td>\n",
       "      <td>27472.000000</td>\n",
       "      <td>25677.000000</td>\n",
       "      <td>25509.000000</td>\n",
       "      <td>23908.000000</td>\n",
       "      <td>21490.000000</td>\n",
       "      <td>11422.000000</td>\n",
       "      <td>24850.000000</td>\n",
       "    </tr>\n",
       "    <tr>\n",
       "      <th>mean</th>\n",
       "      <td>67.450578</td>\n",
       "      <td>118.127103</td>\n",
       "      <td>17.574730</td>\n",
       "      <td>28.560659</td>\n",
       "      <td>32.309123</td>\n",
       "      <td>23.483476</td>\n",
       "      <td>2.248598</td>\n",
       "      <td>14.531977</td>\n",
       "      <td>34.491430</td>\n",
       "      <td>3.280840</td>\n",
       "      <td>8.700972</td>\n",
       "      <td>3.070128</td>\n",
       "      <td>166.463581</td>\n",
       "    </tr>\n",
       "    <tr>\n",
       "      <th>std</th>\n",
       "      <td>64.661449</td>\n",
       "      <td>90.605110</td>\n",
       "      <td>22.785846</td>\n",
       "      <td>24.474746</td>\n",
       "      <td>31.646011</td>\n",
       "      <td>25.684275</td>\n",
       "      <td>6.962884</td>\n",
       "      <td>18.133775</td>\n",
       "      <td>21.694928</td>\n",
       "      <td>15.811136</td>\n",
       "      <td>19.969164</td>\n",
       "      <td>6.323247</td>\n",
       "      <td>140.696585</td>\n",
       "    </tr>\n",
       "    <tr>\n",
       "      <th>min</th>\n",
       "      <td>0.040000</td>\n",
       "      <td>0.010000</td>\n",
       "      <td>0.020000</td>\n",
       "      <td>0.010000</td>\n",
       "      <td>0.000000</td>\n",
       "      <td>0.010000</td>\n",
       "      <td>0.000000</td>\n",
       "      <td>0.010000</td>\n",
       "      <td>0.010000</td>\n",
       "      <td>0.000000</td>\n",
       "      <td>0.000000</td>\n",
       "      <td>0.000000</td>\n",
       "      <td>13.000000</td>\n",
       "    </tr>\n",
       "    <tr>\n",
       "      <th>25%</th>\n",
       "      <td>28.820000</td>\n",
       "      <td>56.255000</td>\n",
       "      <td>5.630000</td>\n",
       "      <td>11.750000</td>\n",
       "      <td>12.820000</td>\n",
       "      <td>8.580000</td>\n",
       "      <td>0.510000</td>\n",
       "      <td>5.670000</td>\n",
       "      <td>18.860000</td>\n",
       "      <td>0.120000</td>\n",
       "      <td>0.600000</td>\n",
       "      <td>0.140000</td>\n",
       "      <td>81.000000</td>\n",
       "    </tr>\n",
       "    <tr>\n",
       "      <th>50%</th>\n",
       "      <td>48.570000</td>\n",
       "      <td>95.680000</td>\n",
       "      <td>9.890000</td>\n",
       "      <td>21.690000</td>\n",
       "      <td>23.520000</td>\n",
       "      <td>15.850000</td>\n",
       "      <td>0.890000</td>\n",
       "      <td>9.160000</td>\n",
       "      <td>30.840000</td>\n",
       "      <td>1.070000</td>\n",
       "      <td>2.970000</td>\n",
       "      <td>0.980000</td>\n",
       "      <td>118.000000</td>\n",
       "    </tr>\n",
       "    <tr>\n",
       "      <th>75%</th>\n",
       "      <td>80.590000</td>\n",
       "      <td>149.745000</td>\n",
       "      <td>19.950000</td>\n",
       "      <td>37.620000</td>\n",
       "      <td>40.127500</td>\n",
       "      <td>30.020000</td>\n",
       "      <td>1.450000</td>\n",
       "      <td>15.220000</td>\n",
       "      <td>45.570000</td>\n",
       "      <td>3.080000</td>\n",
       "      <td>9.150000</td>\n",
       "      <td>3.350000</td>\n",
       "      <td>208.000000</td>\n",
       "    </tr>\n",
       "    <tr>\n",
       "      <th>max</th>\n",
       "      <td>949.990000</td>\n",
       "      <td>1000.000000</td>\n",
       "      <td>390.680000</td>\n",
       "      <td>362.210000</td>\n",
       "      <td>467.630000</td>\n",
       "      <td>352.890000</td>\n",
       "      <td>175.810000</td>\n",
       "      <td>193.860000</td>\n",
       "      <td>257.730000</td>\n",
       "      <td>455.030000</td>\n",
       "      <td>454.850000</td>\n",
       "      <td>170.370000</td>\n",
       "      <td>2049.000000</td>\n",
       "    </tr>\n",
       "  </tbody>\n",
       "</table>\n",
       "</div>"
      ],
      "text/plain": [
       "              PM2.5          PM10            NO           NO2           NOx           NH3            CO           SO2            O3  \\\n",
       "count  24933.000000  18391.000000  25949.000000  25946.000000  25346.000000  19203.000000  27472.000000  25677.000000  25509.000000   \n",
       "mean      67.450578    118.127103     17.574730     28.560659     32.309123     23.483476      2.248598     14.531977     34.491430   \n",
       "std       64.661449     90.605110     22.785846     24.474746     31.646011     25.684275      6.962884     18.133775     21.694928   \n",
       "min        0.040000      0.010000      0.020000      0.010000      0.000000      0.010000      0.000000      0.010000      0.010000   \n",
       "25%       28.820000     56.255000      5.630000     11.750000     12.820000      8.580000      0.510000      5.670000     18.860000   \n",
       "50%       48.570000     95.680000      9.890000     21.690000     23.520000     15.850000      0.890000      9.160000     30.840000   \n",
       "75%       80.590000    149.745000     19.950000     37.620000     40.127500     30.020000      1.450000     15.220000     45.570000   \n",
       "max      949.990000   1000.000000    390.680000    362.210000    467.630000    352.890000    175.810000    193.860000    257.730000   \n",
       "\n",
       "            Benzene       Toluene        Xylene           AQI  \n",
       "count  23908.000000  21490.000000  11422.000000  24850.000000  \n",
       "mean       3.280840      8.700972      3.070128    166.463581  \n",
       "std       15.811136     19.969164      6.323247    140.696585  \n",
       "min        0.000000      0.000000      0.000000     13.000000  \n",
       "25%        0.120000      0.600000      0.140000     81.000000  \n",
       "50%        1.070000      2.970000      0.980000    118.000000  \n",
       "75%        3.080000      9.150000      3.350000    208.000000  \n",
       "max      455.030000    454.850000    170.370000   2049.000000  "
      ]
     },
     "execution_count": 11,
     "metadata": {},
     "output_type": "execute_result"
    }
   ],
   "source": [
    "df.describe(include=(np.number))"
   ]
  },
  {
   "cell_type": "code",
   "execution_count": 12,
   "id": "d65b1e34-f358-463e-b156-78c11e49bfe1",
   "metadata": {},
   "outputs": [
    {
     "data": {
      "text/plain": [
       "<AxesSubplot:>"
      ]
     },
     "execution_count": 12,
     "metadata": {},
     "output_type": "execute_result"
    },
    {
     "data": {
      "image/png": "[encoded data removed]",
      "text/plain": [
       "<Figure size 432x288 with 1 Axes>"
      ]
     },
     "metadata": {
      "needs_background": "light"
     },
     "output_type": "display_data"
    }
   ],
   "source": [
    "df[\"PM2.5\"].hist(bins=1000)"
   ]
  },
  {
   "cell_type": "code",
   "execution_count": 13,
   "id": "e9ac56d3-34d2-4021-a942-700c67169886",
   "metadata": {},
   "outputs": [],
   "source": [
    "df[\"LogPM2.5\"] = np.log(df[\"PM2.5\"] + 1)"
   ]
  },
  {
   "cell_type": "code",
   "execution_count": 14,
   "id": "01a1ee55-e6f5-4b70-8a0d-060c5d845c9d",
   "metadata": {},
   "outputs": [
    {
     "data": {
      "text/plain": [
       "<AxesSubplot:>"
      ]
     },
     "execution_count": 14,
     "metadata": {},
     "output_type": "execute_result"
    },
    {
     "data": {
      "image/png": "[encoded data removed]",
      "text/plain": [
       "<Figure size 432x288 with 1 Axes>"
      ]
     },
     "metadata": {
      "needs_background": "light"
     },
     "output_type": "display_data"
    }
   ],
   "source": [
    "df[\"LogPM2.5\"].hist(bins=1000)"
   ]
  },
  {
   "cell_type": "code",
   "execution_count": null,
   "id": "adce3754",
   "metadata": {},
   "outputs": [],
   "source": []
  },
  {
   "cell_type": "code",
   "execution_count": 15,
   "id": "9df81bc6-8ea4-496a-b47e-a90afde54e02",
   "metadata": {},
   "outputs": [
    {
     "name": "stdout",
     "output_type": "stream",
     "text": [
      "['Ahmedabad', 'Aizawl', 'Amaravati', 'Amritsar', 'Bengaluru', 'Bhopal', 'Brajrajnagar', 'Chandigarh', 'Chennai', 'Coimbatore', 'Delhi', 'Ernakulam', 'Gurugram', 'Guwahati', 'Hyderabad', 'Jaipur', 'Jorapokhar', 'Kochi', 'Kolkata', 'Lucknow', 'Mumbai', 'Patna', 'Shillong', 'Talcher', 'Thiruvananthapuram', 'Visakhapatnam']\n"
     ]
    }
   ],
   "source": [
    "cities = sorted(df.City.unique())\n",
    "print(cities)"
   ]
  },
  {
   "cell_type": "code",
   "execution_count": 16,
   "id": "0b7c64d8-82c3-416a-9232-c0331f179d34",
   "metadata": {},
   "outputs": [
    {
     "data": {
      "text/html": [
       "<div>\n",
       "<style scoped>\n",
       "    .dataframe tbody tr th:only-of-type {\n",
       "        vertical-align: middle;\n",
       "    }\n",
       "\n",
       "    .dataframe tbody tr th {\n",
       "        vertical-align: top;\n",
       "    }\n",
       "\n",
       "    .dataframe thead th {\n",
       "        text-align: right;\n",
       "    }\n",
       "</style>\n",
       "<table border=\"1\" class=\"dataframe\">\n",
       "  <thead>\n",
       "    <tr style=\"text-align: right;\">\n",
       "      <th></th>\n",
       "      <th>City</th>\n",
       "      <th>AQI_Bucket</th>\n",
       "    </tr>\n",
       "  </thead>\n",
       "  <tbody>\n",
       "    <tr>\n",
       "      <th>count</th>\n",
       "      <td>29531</td>\n",
       "      <td>24850</td>\n",
       "    </tr>\n",
       "    <tr>\n",
       "      <th>unique</th>\n",
       "      <td>26</td>\n",
       "      <td>6</td>\n",
       "    </tr>\n",
       "    <tr>\n",
       "      <th>top</th>\n",
       "      <td>Ahmedabad</td>\n",
       "      <td>Moderate</td>\n",
       "    </tr>\n",
       "    <tr>\n",
       "      <th>freq</th>\n",
       "      <td>2009</td>\n",
       "      <td>8829</td>\n",
       "    </tr>\n",
       "  </tbody>\n",
       "</table>\n",
       "</div>"
      ],
      "text/plain": [
       "             City AQI_Bucket\n",
       "count       29531      24850\n",
       "unique         26          6\n",
       "top     Ahmedabad   Moderate\n",
       "freq         2009       8829"
      ]
     },
     "execution_count": 16,
     "metadata": {},
     "output_type": "execute_result"
    }
   ],
   "source": [
    "df.describe(include=[object])"
   ]
  },
  {
   "cell_type": "code",
   "execution_count": 17,
   "id": "9ad6246c-d88e-45c1-9340-3092f83bf074",
   "metadata": {},
   "outputs": [
    {
     "data": {
      "text/html": [
       "<div>\n",
       "<style scoped>\n",
       "    .dataframe tbody tr th:only-of-type {\n",
       "        vertical-align: middle;\n",
       "    }\n",
       "\n",
       "    .dataframe tbody tr th {\n",
       "        vertical-align: top;\n",
       "    }\n",
       "\n",
       "    .dataframe thead th {\n",
       "        text-align: right;\n",
       "    }\n",
       "</style>\n",
       "<table border=\"1\" class=\"dataframe\">\n",
       "  <thead>\n",
       "    <tr style=\"text-align: right;\">\n",
       "      <th></th>\n",
       "      <th>City</th>\n",
       "      <th>Date</th>\n",
       "      <th>PM2.5</th>\n",
       "      <th>PM10</th>\n",
       "      <th>NO</th>\n",
       "      <th>NO2</th>\n",
       "      <th>NOx</th>\n",
       "      <th>NH3</th>\n",
       "      <th>CO</th>\n",
       "      <th>SO2</th>\n",
       "      <th>O3</th>\n",
       "      <th>Benzene</th>\n",
       "      <th>Toluene</th>\n",
       "      <th>Xylene</th>\n",
       "      <th>AQI</th>\n",
       "      <th>AQI_Bucket</th>\n",
       "      <th>LogPM2.5</th>\n",
       "    </tr>\n",
       "  </thead>\n",
       "  <tbody>\n",
       "    <tr>\n",
       "      <th>10229</th>\n",
       "      <td>Delhi</td>\n",
       "      <td>2015-01-01</td>\n",
       "      <td>313.22</td>\n",
       "      <td>607.98</td>\n",
       "      <td>69.16</td>\n",
       "      <td>36.39</td>\n",
       "      <td>110.59</td>\n",
       "      <td>33.85</td>\n",
       "      <td>15.20</td>\n",
       "      <td>9.25</td>\n",
       "      <td>41.68</td>\n",
       "      <td>14.36</td>\n",
       "      <td>24.86</td>\n",
       "      <td>9.84</td>\n",
       "      <td>472.0</td>\n",
       "      <td>Severe</td>\n",
       "      <td>5.750093</td>\n",
       "    </tr>\n",
       "    <tr>\n",
       "      <th>10230</th>\n",
       "      <td>Delhi</td>\n",
       "      <td>2015-01-02</td>\n",
       "      <td>186.18</td>\n",
       "      <td>269.55</td>\n",
       "      <td>62.09</td>\n",
       "      <td>32.87</td>\n",
       "      <td>88.14</td>\n",
       "      <td>31.83</td>\n",
       "      <td>9.54</td>\n",
       "      <td>6.65</td>\n",
       "      <td>29.97</td>\n",
       "      <td>10.55</td>\n",
       "      <td>20.09</td>\n",
       "      <td>4.29</td>\n",
       "      <td>454.0</td>\n",
       "      <td>Severe</td>\n",
       "      <td>5.232071</td>\n",
       "    </tr>\n",
       "    <tr>\n",
       "      <th>10231</th>\n",
       "      <td>Delhi</td>\n",
       "      <td>2015-01-03</td>\n",
       "      <td>87.18</td>\n",
       "      <td>131.90</td>\n",
       "      <td>25.73</td>\n",
       "      <td>30.31</td>\n",
       "      <td>47.95</td>\n",
       "      <td>69.55</td>\n",
       "      <td>10.61</td>\n",
       "      <td>2.65</td>\n",
       "      <td>19.71</td>\n",
       "      <td>3.91</td>\n",
       "      <td>10.23</td>\n",
       "      <td>1.99</td>\n",
       "      <td>143.0</td>\n",
       "      <td>Moderate</td>\n",
       "      <td>4.479380</td>\n",
       "    </tr>\n",
       "    <tr>\n",
       "      <th>10232</th>\n",
       "      <td>Delhi</td>\n",
       "      <td>2015-01-04</td>\n",
       "      <td>151.84</td>\n",
       "      <td>241.84</td>\n",
       "      <td>25.01</td>\n",
       "      <td>36.91</td>\n",
       "      <td>48.62</td>\n",
       "      <td>130.36</td>\n",
       "      <td>11.54</td>\n",
       "      <td>4.63</td>\n",
       "      <td>25.36</td>\n",
       "      <td>4.26</td>\n",
       "      <td>9.71</td>\n",
       "      <td>3.34</td>\n",
       "      <td>319.0</td>\n",
       "      <td>Very Poor</td>\n",
       "      <td>5.029392</td>\n",
       "    </tr>\n",
       "    <tr>\n",
       "      <th>10233</th>\n",
       "      <td>Delhi</td>\n",
       "      <td>2015-01-05</td>\n",
       "      <td>146.60</td>\n",
       "      <td>219.13</td>\n",
       "      <td>14.01</td>\n",
       "      <td>34.92</td>\n",
       "      <td>38.25</td>\n",
       "      <td>122.88</td>\n",
       "      <td>9.20</td>\n",
       "      <td>3.33</td>\n",
       "      <td>23.20</td>\n",
       "      <td>2.80</td>\n",
       "      <td>6.21</td>\n",
       "      <td>2.96</td>\n",
       "      <td>325.0</td>\n",
       "      <td>Very Poor</td>\n",
       "      <td>4.994506</td>\n",
       "    </tr>\n",
       "  </tbody>\n",
       "</table>\n",
       "</div>"
      ],
      "text/plain": [
       "        City       Date   PM2.5    PM10     NO    NO2     NOx     NH3     CO   SO2     O3  Benzene  Toluene  Xylene    AQI AQI_Bucket  \\\n",
       "10229  Delhi 2015-01-01  313.22  607.98  69.16  36.39  110.59   33.85  15.20  9.25  41.68    14.36    24.86    9.84  472.0     Severe   \n",
       "10230  Delhi 2015-01-02  186.18  269.55  62.09  32.87   88.14   31.83   9.54  6.65  29.97    10.55    20.09    4.29  454.0     Severe   \n",
       "10231  Delhi 2015-01-03   87.18  131.90  25.73  30.31   47.95   69.55  10.61  2.65  19.71     3.91    10.23    1.99  143.0   Moderate   \n",
       "10232  Delhi 2015-01-04  151.84  241.84  25.01  36.91   48.62  130.36  11.54  4.63  25.36     4.26     9.71    3.34  319.0  Very Poor   \n",
       "10233  Delhi 2015-01-05  146.60  219.13  14.01  34.92   38.25  122.88   9.20  3.33  23.20     2.80     6.21    2.96  325.0  Very Poor   \n",
       "\n",
       "       LogPM2.5  \n",
       "10229  5.750093  \n",
       "10230  5.232071  \n",
       "10231  4.479380  \n",
       "10232  5.029392  \n",
       "10233  4.994506  "
      ]
     },
     "execution_count": 17,
     "metadata": {},
     "output_type": "execute_result"
    }
   ],
   "source": [
    "delhi_df = df[df[\"City\"] == \"Delhi\"]\n",
    "delhi_df.head()"
   ]
  },
  {
   "cell_type": "code",
   "execution_count": 18,
   "id": "7e548ebb-5998-4350-987c-ac4c74b2bcac",
   "metadata": {},
   "outputs": [
    {
     "data": {
      "text/plain": [
       "City            0\n",
       "Date            0\n",
       "PM2.5           2\n",
       "PM10           77\n",
       "NO              2\n",
       "NO2             2\n",
       "NOx             0\n",
       "NH3             9\n",
       "CO              0\n",
       "SO2           110\n",
       "O3             84\n",
       "Benzene         0\n",
       "Toluene         0\n",
       "Xylene        781\n",
       "AQI            10\n",
       "AQI_Bucket     10\n",
       "LogPM2.5        2\n",
       "dtype: int64"
      ]
     },
     "execution_count": 18,
     "metadata": {},
     "output_type": "execute_result"
    }
   ],
   "source": [
    "delhi_df.isna().sum()"
   ]
  },
  {
   "cell_type": "code",
   "execution_count": 19,
   "id": "40873308-16bc-48ba-9742-78e7d1787940",
   "metadata": {},
   "outputs": [
    {
     "data": {
      "text/plain": [
       "City                        Delhi\n",
       "Date          2015-01-01 00:00:00\n",
       "PM2.5                       42.06\n",
       "PM10                        60.15\n",
       "NO                          14.64\n",
       "NO2                         38.55\n",
       "NOx                         20.45\n",
       "NH3                         31.36\n",
       "CO                            0.0\n",
       "SO2                          9.36\n",
       "O3                          34.75\n",
       "Benzene                      1.88\n",
       "Toluene                       0.0\n",
       "Xylene                        0.0\n",
       "AQI                         123.0\n",
       "AQI_Bucket                   Poor\n",
       "LogPM2.5                 3.762594\n",
       "Name: 0, dtype: object"
      ]
     },
     "execution_count": 19,
     "metadata": {},
     "output_type": "execute_result"
    }
   ],
   "source": [
    "modes = delhi_df.mode().iloc[0]\n",
    "modes"
   ]
  },
  {
   "cell_type": "code",
   "execution_count": 20,
   "id": "dd70c1d9-96e8-4ee3-897a-94dfe21010d0",
   "metadata": {},
   "outputs": [
    {
     "name": "stderr",
     "output_type": "stream",
     "text": [
      "/Users/frankkelly/Library/Caches/pypoetry/virtualenvs/india-air-pollution-study-xopDDJl_-py3.9/lib/python3.9/site-packages/pandas/core/generic.py:6392: SettingWithCopyWarning: \n",
      "A value is trying to be set on a copy of a slice from a DataFrame\n",
      "\n",
      "See the caveats in the documentation: https://pandas.pydata.org/pandas-docs/stable/user_guide/indexing.html#returning-a-view-versus-a-copy\n",
      "  return self._update_inplace(result)\n"
     ]
    }
   ],
   "source": [
    "delhi_df.fillna(modes, inplace=True)"
   ]
  },
  {
   "cell_type": "code",
   "execution_count": 21,
   "id": "dff242fa",
   "metadata": {},
   "outputs": [
    {
     "name": "stdout",
     "output_type": "stream",
     "text": [
      "City          0\n",
      "Date          0\n",
      "PM2.5         0\n",
      "PM10          0\n",
      "NO            0\n",
      "NO2           0\n",
      "NOx           0\n",
      "NH3           0\n",
      "CO            0\n",
      "SO2           0\n",
      "O3            0\n",
      "Benzene       0\n",
      "Toluene       0\n",
      "Xylene        0\n",
      "AQI           0\n",
      "AQI_Bucket    0\n",
      "LogPM2.5      0\n",
      "dtype: int64\n"
     ]
    }
   ],
   "source": [
    "print(delhi_df.isna().sum())"
   ]
  },
  {
   "cell_type": "code",
   "execution_count": 22,
   "id": "1ddfa024",
   "metadata": {},
   "outputs": [
    {
     "data": {
      "text/html": [
       "<div>\n",
       "<style scoped>\n",
       "    .dataframe tbody tr th:only-of-type {\n",
       "        vertical-align: middle;\n",
       "    }\n",
       "\n",
       "    .dataframe tbody tr th {\n",
       "        vertical-align: top;\n",
       "    }\n",
       "\n",
       "    .dataframe thead th {\n",
       "        text-align: right;\n",
       "    }\n",
       "</style>\n",
       "<table border=\"1\" class=\"dataframe\">\n",
       "  <thead>\n",
       "    <tr style=\"text-align: right;\">\n",
       "      <th></th>\n",
       "      <th>PM2.5</th>\n",
       "      <th>PM10</th>\n",
       "      <th>NO</th>\n",
       "      <th>NO2</th>\n",
       "      <th>NOx</th>\n",
       "      <th>NH3</th>\n",
       "      <th>CO</th>\n",
       "      <th>SO2</th>\n",
       "      <th>O3</th>\n",
       "      <th>Benzene</th>\n",
       "      <th>Toluene</th>\n",
       "      <th>Xylene</th>\n",
       "      <th>AQI</th>\n",
       "      <th>LogPM2.5</th>\n",
       "    </tr>\n",
       "    <tr>\n",
       "      <th>Date</th>\n",
       "      <th></th>\n",
       "      <th></th>\n",
       "      <th></th>\n",
       "      <th></th>\n",
       "      <th></th>\n",
       "      <th></th>\n",
       "      <th></th>\n",
       "      <th></th>\n",
       "      <th></th>\n",
       "      <th></th>\n",
       "      <th></th>\n",
       "      <th></th>\n",
       "      <th></th>\n",
       "      <th></th>\n",
       "    </tr>\n",
       "  </thead>\n",
       "  <tbody>\n",
       "    <tr>\n",
       "      <th>2015-01-31</th>\n",
       "      <td>175.690645</td>\n",
       "      <td>276.971290</td>\n",
       "      <td>26.392581</td>\n",
       "      <td>36.925484</td>\n",
       "      <td>51.794194</td>\n",
       "      <td>98.160323</td>\n",
       "      <td>10.269355</td>\n",
       "      <td>5.594194</td>\n",
       "      <td>25.868710</td>\n",
       "      <td>5.265161</td>\n",
       "      <td>10.913548</td>\n",
       "      <td>3.730323</td>\n",
       "      <td>342.290323</td>\n",
       "      <td>5.149637</td>\n",
       "    </tr>\n",
       "    <tr>\n",
       "      <th>2015-02-28</th>\n",
       "      <td>153.920357</td>\n",
       "      <td>234.939643</td>\n",
       "      <td>29.287857</td>\n",
       "      <td>41.656786</td>\n",
       "      <td>54.208571</td>\n",
       "      <td>65.785714</td>\n",
       "      <td>11.137857</td>\n",
       "      <td>7.863214</td>\n",
       "      <td>30.829643</td>\n",
       "      <td>3.969286</td>\n",
       "      <td>9.411429</td>\n",
       "      <td>6.012857</td>\n",
       "      <td>327.928571</td>\n",
       "      <td>5.031690</td>\n",
       "    </tr>\n",
       "    <tr>\n",
       "      <th>2015-03-31</th>\n",
       "      <td>80.338065</td>\n",
       "      <td>135.044516</td>\n",
       "      <td>15.010000</td>\n",
       "      <td>24.386129</td>\n",
       "      <td>30.734194</td>\n",
       "      <td>27.790323</td>\n",
       "      <td>9.863871</td>\n",
       "      <td>7.387097</td>\n",
       "      <td>28.738387</td>\n",
       "      <td>3.066452</td>\n",
       "      <td>8.617097</td>\n",
       "      <td>5.790968</td>\n",
       "      <td>256.064516</td>\n",
       "      <td>4.356730</td>\n",
       "    </tr>\n",
       "    <tr>\n",
       "      <th>2015-04-30</th>\n",
       "      <td>91.562333</td>\n",
       "      <td>187.991333</td>\n",
       "      <td>18.510667</td>\n",
       "      <td>44.279667</td>\n",
       "      <td>54.751000</td>\n",
       "      <td>32.401667</td>\n",
       "      <td>7.218333</td>\n",
       "      <td>16.101333</td>\n",
       "      <td>58.172000</td>\n",
       "      <td>3.143333</td>\n",
       "      <td>9.826667</td>\n",
       "      <td>2.949667</td>\n",
       "      <td>305.266667</td>\n",
       "      <td>4.493908</td>\n",
       "    </tr>\n",
       "    <tr>\n",
       "      <th>2015-05-31</th>\n",
       "      <td>97.109355</td>\n",
       "      <td>271.050645</td>\n",
       "      <td>30.833871</td>\n",
       "      <td>61.483548</td>\n",
       "      <td>78.628065</td>\n",
       "      <td>38.922903</td>\n",
       "      <td>8.008387</td>\n",
       "      <td>16.129032</td>\n",
       "      <td>69.061613</td>\n",
       "      <td>3.072581</td>\n",
       "      <td>10.062581</td>\n",
       "      <td>0.071290</td>\n",
       "      <td>348.580645</td>\n",
       "      <td>4.552019</td>\n",
       "    </tr>\n",
       "  </tbody>\n",
       "</table>\n",
       "</div>"
      ],
      "text/plain": [
       "                 PM2.5        PM10         NO        NO2        NOx        NH3         CO        SO2         O3   Benzene    Toluene  \\\n",
       "Date                                                                                                                                   \n",
       "2015-01-31  175.690645  276.971290  26.392581  36.925484  51.794194  98.160323  10.269355   5.594194  25.868710  5.265161  10.913548   \n",
       "2015-02-28  153.920357  234.939643  29.287857  41.656786  54.208571  65.785714  11.137857   7.863214  30.829643  3.969286   9.411429   \n",
       "2015-03-31   80.338065  135.044516  15.010000  24.386129  30.734194  27.790323   9.863871   7.387097  28.738387  3.066452   8.617097   \n",
       "2015-04-30   91.562333  187.991333  18.510667  44.279667  54.751000  32.401667   7.218333  16.101333  58.172000  3.143333   9.826667   \n",
       "2015-05-31   97.109355  271.050645  30.833871  61.483548  78.628065  38.922903   8.008387  16.129032  69.061613  3.072581  10.062581   \n",
       "\n",
       "              Xylene         AQI  LogPM2.5  \n",
       "Date                                        \n",
       "2015-01-31  3.730323  342.290323  5.149637  \n",
       "2015-02-28  6.012857  327.928571  5.031690  \n",
       "2015-03-31  5.790968  256.064516  4.356730  \n",
       "2015-04-30  2.949667  305.266667  4.493908  \n",
       "2015-05-31  0.071290  348.580645  4.552019  "
      ]
     },
     "execution_count": 22,
     "metadata": {},
     "output_type": "execute_result"
    }
   ],
   "source": [
    "delhi_df_monthly = delhi_df.set_index(keys=[\"Date\"]).resample(\"M\").mean()\n",
    "delhi_df_monthly.head()"
   ]
  },
  {
   "cell_type": "code",
   "execution_count": 23,
   "id": "eeb1dd75",
   "metadata": {},
   "outputs": [
    {
     "data": {
      "text/plain": [
       "<AxesSubplot:xlabel='Date'>"
      ]
     },
     "execution_count": 23,
     "metadata": {},
     "output_type": "execute_result"
    },
    {
     "data": {
      "image/png": "[encoded data removed]",
      "text/plain": [
       "<Figure size 432x288 with 1 Axes>"
      ]
     },
     "metadata": {
      "needs_background": "light"
     },
     "output_type": "display_data"
    }
   ],
   "source": [
    "delhi_df_monthly[\"PM2.5\"].plot()"
   ]
  },
  {
   "cell_type": "code",
   "execution_count": 24,
   "id": "43f7660e-f5f0-47df-ad1b-8fbf7d889390",
   "metadata": {},
   "outputs": [
    {
     "data": {
      "text/plain": [
       "0   2015-01-31\n",
       "1   2015-02-28\n",
       "2   2015-03-31\n",
       "3   2015-04-30\n",
       "4   2015-05-31\n",
       "Name: Date, dtype: datetime64[ns]"
      ]
     },
     "execution_count": 24,
     "metadata": {},
     "output_type": "execute_result"
    }
   ],
   "source": [
    "delhi_df_monthly = delhi_df_monthly.reset_index(drop=False)\n",
    "delhi_df_monthly[\"Date\"].head()"
   ]
  },
  {
   "cell_type": "code",
   "execution_count": 25,
   "id": "6da935a6-41e5-4f17-85ac-785a927ebc64",
   "metadata": {},
   "outputs": [
    {
     "name": "stdout",
     "output_type": "stream",
     "text": [
      "Length of dataframe: 67\n",
      "Length of train set: 55\n",
      "Length of test set: 12\n"
     ]
    }
   ],
   "source": [
    "nobs = 12\n",
    "train = delhi_df_monthly[:-nobs]\n",
    "test = delhi_df_monthly[-nobs:]\n",
    "\n",
    "print(\n",
    "    f\"Length of dataframe: {len(delhi_df_monthly)}\\n\"\n",
    "    f\"Length of train set: {len(train)}\\n\"\n",
    "    f\"Length of test set: {len(test)}\"\n",
    ")"
   ]
  },
  {
   "cell_type": "code",
   "execution_count": 26,
   "id": "8ba7c2f8-44bc-432a-833b-5dd66e8ccfa6",
   "metadata": {},
   "outputs": [
    {
     "name": "stderr",
     "output_type": "stream",
     "text": [
      "10:04:26 - cmdstanpy - INFO - Chain [1] start processing\n",
      "10:04:26 - cmdstanpy - INFO - Chain [1] done processing\n",
      "10:04:26 - cmdstanpy - ERROR - Chain [1] error: terminated by signal 6 Unknown error: -6\n"
     ]
    },
    {
     "ename": "RuntimeError",
     "evalue": "Error during optimization: console log output:\n\ndyld[27666]: Library not loaded: @rpath/libtbb.dylib\n  Referenced from: /Users/frankkelly/Library/Caches/pypoetry/virtualenvs/india-air-pollution-study-xopDDJl_-py3.9/lib/python3.9/site-packages/prophet/stan_model/prophet_model.bin\n  Reason: tried: '/private/var/folders/17/sgfdr00n1sn9ddjf831jrsd00000gn/T/pip-req-build-upggi27i/build/lib.macosx-12.0-arm64-cpython-39/prophet/stan_model/cmdstan-2.26.1/stan/lib/stan_math/lib/tbb/libtbb.dylib' (no such file), '/private/var/folders/17/sgfdr00n1sn9ddjf831jrsd00000gn/T/pip-req-build-upggi27i/build/lib.macosx-12.0-arm64-cpython-39/prophet/stan_model/cmdstan-2.26.1/stan/lib/stan_math/lib/tbb/libtbb.dylib' (no such file), '/usr/local/lib/libtbb.dylib' (no such file), '/usr/lib/libtbb.dylib' (no such file)\n",
     "output_type": "error",
     "traceback": [
      "\u001b[0;31m---------------------------------------------------------------------------\u001b[0m",
      "\u001b[0;31mRuntimeError\u001b[0m                              Traceback (most recent call last)",
      "\u001b[1;32m/Users/frankkelly/Dropbox/Projects-new/india_air_pollution_study/02_fdk_delhi_monthly_prophet.ipynb Cell 28\u001b[0m in \u001b[0;36m<cell line: 2>\u001b[0;34m()\u001b[0m\n\u001b[1;32m      <a href='vscode-notebook-cell:/Users/frankkelly/Dropbox/Projects-new/india_air_pollution_study/02_fdk_delhi_monthly_prophet.ipynb#X36sZmlsZQ%3D%3D?line=0'>1</a>\u001b[0m forecaster \u001b[39m=\u001b[39m Prophet()\n\u001b[0;32m----> <a href='vscode-notebook-cell:/Users/frankkelly/Dropbox/Projects-new/india_air_pollution_study/02_fdk_delhi_monthly_prophet.ipynb#X36sZmlsZQ%3D%3D?line=1'>2</a>\u001b[0m forecaster\u001b[39m.\u001b[39;49mfit(train\u001b[39m.\u001b[39;49mrename(columns\u001b[39m=\u001b[39;49m{\u001b[39m\"\u001b[39;49m\u001b[39mDate\u001b[39;49m\u001b[39m\"\u001b[39;49m: \u001b[39m\"\u001b[39;49m\u001b[39mds\u001b[39;49m\u001b[39m\"\u001b[39;49m, \u001b[39m\"\u001b[39;49m\u001b[39mPM2.5\u001b[39;49m\u001b[39m\"\u001b[39;49m: \u001b[39m\"\u001b[39;49m\u001b[39my\u001b[39;49m\u001b[39m\"\u001b[39;49m}))\n",
      "File \u001b[0;32m~/Library/Caches/pypoetry/virtualenvs/india-air-pollution-study-xopDDJl_-py3.9/lib/python3.9/site-packages/prophet/forecaster.py:1171\u001b[0m, in \u001b[0;36mProphet.fit\u001b[0;34m(self, df, **kwargs)\u001b[0m\n\u001b[1;32m   1169\u001b[0m     \u001b[39mself\u001b[39m\u001b[39m.\u001b[39mparams \u001b[39m=\u001b[39m \u001b[39mself\u001b[39m\u001b[39m.\u001b[39mstan_backend\u001b[39m.\u001b[39msampling(stan_init, dat, \u001b[39mself\u001b[39m\u001b[39m.\u001b[39mmcmc_samples, \u001b[39m*\u001b[39m\u001b[39m*\u001b[39mkwargs)\n\u001b[1;32m   1170\u001b[0m \u001b[39melse\u001b[39;00m:\n\u001b[0;32m-> 1171\u001b[0m     \u001b[39mself\u001b[39m\u001b[39m.\u001b[39mparams \u001b[39m=\u001b[39m \u001b[39mself\u001b[39;49m\u001b[39m.\u001b[39;49mstan_backend\u001b[39m.\u001b[39;49mfit(stan_init, dat, \u001b[39m*\u001b[39;49m\u001b[39m*\u001b[39;49mkwargs)\n\u001b[1;32m   1173\u001b[0m \u001b[39mself\u001b[39m\u001b[39m.\u001b[39mstan_fit \u001b[39m=\u001b[39m \u001b[39mself\u001b[39m\u001b[39m.\u001b[39mstan_backend\u001b[39m.\u001b[39mstan_fit\n\u001b[1;32m   1174\u001b[0m \u001b[39m# If no changepoints were requested, replace delta with 0s\u001b[39;00m\n",
      "File \u001b[0;32m~/Library/Caches/pypoetry/virtualenvs/india-air-pollution-study-xopDDJl_-py3.9/lib/python3.9/site-packages/prophet/models.py:112\u001b[0m, in \u001b[0;36mCmdStanPyBackend.fit\u001b[0;34m(self, stan_init, stan_data, **kwargs)\u001b[0m\n\u001b[1;32m    110\u001b[0m         \u001b[39mself\u001b[39m\u001b[39m.\u001b[39mstan_fit \u001b[39m=\u001b[39m \u001b[39mself\u001b[39m\u001b[39m.\u001b[39mmodel\u001b[39m.\u001b[39moptimize(\u001b[39m*\u001b[39m\u001b[39m*\u001b[39margs)\n\u001b[1;32m    111\u001b[0m     \u001b[39melse\u001b[39;00m:\n\u001b[0;32m--> 112\u001b[0m         \u001b[39mraise\u001b[39;00m e\n\u001b[1;32m    114\u001b[0m params \u001b[39m=\u001b[39m \u001b[39mself\u001b[39m\u001b[39m.\u001b[39mstan_to_dict_numpy(\n\u001b[1;32m    115\u001b[0m     \u001b[39mself\u001b[39m\u001b[39m.\u001b[39mstan_fit\u001b[39m.\u001b[39mcolumn_names, \u001b[39mself\u001b[39m\u001b[39m.\u001b[39mstan_fit\u001b[39m.\u001b[39moptimized_params_np)\n\u001b[1;32m    116\u001b[0m \u001b[39mfor\u001b[39;00m par \u001b[39min\u001b[39;00m params:\n",
      "File \u001b[0;32m~/Library/Caches/pypoetry/virtualenvs/india-air-pollution-study-xopDDJl_-py3.9/lib/python3.9/site-packages/prophet/models.py:102\u001b[0m, in \u001b[0;36mCmdStanPyBackend.fit\u001b[0;34m(self, stan_init, stan_data, **kwargs)\u001b[0m\n\u001b[1;32m     99\u001b[0m args\u001b[39m.\u001b[39mupdate(kwargs)\n\u001b[1;32m    101\u001b[0m \u001b[39mtry\u001b[39;00m:\n\u001b[0;32m--> 102\u001b[0m     \u001b[39mself\u001b[39m\u001b[39m.\u001b[39mstan_fit \u001b[39m=\u001b[39m \u001b[39mself\u001b[39;49m\u001b[39m.\u001b[39;49mmodel\u001b[39m.\u001b[39;49moptimize(\u001b[39m*\u001b[39;49m\u001b[39m*\u001b[39;49margs)\n\u001b[1;32m    103\u001b[0m \u001b[39mexcept\u001b[39;00m \u001b[39mRuntimeError\u001b[39;00m \u001b[39mas\u001b[39;00m e:\n\u001b[1;32m    104\u001b[0m     \u001b[39m# Fall back on Newton\u001b[39;00m\n\u001b[1;32m    105\u001b[0m     \u001b[39mif\u001b[39;00m \u001b[39mself\u001b[39m\u001b[39m.\u001b[39mnewton_fallback \u001b[39mand\u001b[39;00m args[\u001b[39m'\u001b[39m\u001b[39malgorithm\u001b[39m\u001b[39m'\u001b[39m] \u001b[39m!=\u001b[39m \u001b[39m'\u001b[39m\u001b[39mNewton\u001b[39m\u001b[39m'\u001b[39m:\n",
      "File \u001b[0;32m~/Library/Caches/pypoetry/virtualenvs/india-air-pollution-study-xopDDJl_-py3.9/lib/python3.9/site-packages/cmdstanpy/model.py:731\u001b[0m, in \u001b[0;36mCmdStanModel.optimize\u001b[0;34m(self, data, seed, inits, output_dir, sig_figs, save_profile, algorithm, init_alpha, tol_obj, tol_rel_obj, tol_grad, tol_rel_grad, tol_param, history_size, iter, save_iterations, require_converged, show_console, refresh, time_fmt)\u001b[0m\n\u001b[1;32m    729\u001b[0m         get_logger()\u001b[39m.\u001b[39mwarning(msg)\n\u001b[1;32m    730\u001b[0m     \u001b[39melse\u001b[39;00m:\n\u001b[0;32m--> 731\u001b[0m         \u001b[39mraise\u001b[39;00m \u001b[39mRuntimeError\u001b[39;00m(msg)\n\u001b[1;32m    732\u001b[0m mle \u001b[39m=\u001b[39m CmdStanMLE(runset)\n\u001b[1;32m    733\u001b[0m \u001b[39mreturn\u001b[39;00m mle\n",
      "\u001b[0;31mRuntimeError\u001b[0m: Error during optimization: console log output:\n\ndyld[27666]: Library not loaded: @rpath/libtbb.dylib\n  Referenced from: /Users/frankkelly/Library/Caches/pypoetry/virtualenvs/india-air-pollution-study-xopDDJl_-py3.9/lib/python3.9/site-packages/prophet/stan_model/prophet_model.bin\n  Reason: tried: '/private/var/folders/17/sgfdr00n1sn9ddjf831jrsd00000gn/T/pip-req-build-upggi27i/build/lib.macosx-12.0-arm64-cpython-39/prophet/stan_model/cmdstan-2.26.1/stan/lib/stan_math/lib/tbb/libtbb.dylib' (no such file), '/private/var/folders/17/sgfdr00n1sn9ddjf831jrsd00000gn/T/pip-req-build-upggi27i/build/lib.macosx-12.0-arm64-cpython-39/prophet/stan_model/cmdstan-2.26.1/stan/lib/stan_math/lib/tbb/libtbb.dylib' (no such file), '/usr/local/lib/libtbb.dylib' (no such file), '/usr/lib/libtbb.dylib' (no such file)\n"
     ]
    }
   ],
   "source": [
    "forecaster = Prophet()\n",
    "forecaster.fit(train.rename(columns={\"Date\": \"ds\", \"PM2.5\": \"y\"}))"
   ]
  },
  {
   "cell_type": "code",
   "execution_count": 44,
   "id": "2d3d466c",
   "metadata": {},
   "outputs": [
    {
     "data": {
      "text/plain": [
       "[datetime.datetime(2019, 8, 1, 0, 0),\n",
       " datetime.datetime(2019, 9, 1, 0, 0),\n",
       " datetime.datetime(2019, 10, 1, 0, 0),\n",
       " datetime.datetime(2019, 11, 1, 0, 0),\n",
       " datetime.datetime(2019, 12, 1, 0, 0)]"
      ]
     },
     "execution_count": 44,
     "metadata": {},
     "output_type": "execute_result"
    }
   ],
   "source": [
    "import datetime\n",
    "\n",
    "# construct future dataframe\n",
    "n_future_months = 12\n",
    "begin_ds = train[\"Date\"].max()\n",
    "month = begin_ds.month\n",
    "year = begin_ds.year\n",
    "future_dates = []\n",
    "for _ in range(n_future_months):\n",
    "    month += 1\n",
    "    if month > 12:\n",
    "        month = 1\n",
    "        year += 1\n",
    "    future_dates.append(datetime.datetime(year=year, month=month, day=1))\n",
    "\n",
    "future_dates[:5]"
   ]
  },
  {
   "cell_type": "code",
   "execution_count": 46,
   "id": "4a004fc5",
   "metadata": {},
   "outputs": [
    {
     "data": {
      "text/html": [
       "<div>\n",
       "<style scoped>\n",
       "    .dataframe tbody tr th:only-of-type {\n",
       "        vertical-align: middle;\n",
       "    }\n",
       "\n",
       "    .dataframe tbody tr th {\n",
       "        vertical-align: top;\n",
       "    }\n",
       "\n",
       "    .dataframe thead th {\n",
       "        text-align: right;\n",
       "    }\n",
       "</style>\n",
       "<table border=\"1\" class=\"dataframe\">\n",
       "  <thead>\n",
       "    <tr style=\"text-align: right;\">\n",
       "      <th></th>\n",
       "      <th>ds</th>\n",
       "    </tr>\n",
       "  </thead>\n",
       "  <tbody>\n",
       "    <tr>\n",
       "      <th>0</th>\n",
       "      <td>2019-08-01</td>\n",
       "    </tr>\n",
       "    <tr>\n",
       "      <th>1</th>\n",
       "      <td>2019-09-01</td>\n",
       "    </tr>\n",
       "    <tr>\n",
       "      <th>2</th>\n",
       "      <td>2019-10-01</td>\n",
       "    </tr>\n",
       "    <tr>\n",
       "      <th>3</th>\n",
       "      <td>2019-11-01</td>\n",
       "    </tr>\n",
       "    <tr>\n",
       "      <th>4</th>\n",
       "      <td>2019-12-01</td>\n",
       "    </tr>\n",
       "  </tbody>\n",
       "</table>\n",
       "</div>"
      ],
      "text/plain": [
       "          ds\n",
       "0 2019-08-01\n",
       "1 2019-09-01\n",
       "2 2019-10-01\n",
       "3 2019-11-01\n",
       "4 2019-12-01"
      ]
     },
     "execution_count": 46,
     "metadata": {},
     "output_type": "execute_result"
    }
   ],
   "source": [
    "future = pd.DataFrame({\"ds\": future_dates})\n",
    "\n",
    "future.head()"
   ]
  },
  {
   "cell_type": "code",
   "execution_count": 47,
   "id": "304ac206-9552-4a44-832c-0d159a6da7ae",
   "metadata": {},
   "outputs": [
    {
     "name": "stderr",
     "output_type": "stream",
     "text": [
      "/Users/frankkelly/Library/Caches/pypoetry/virtualenvs/india-air-pollution-study-xopDDJl_-py3.9/lib/python3.9/site-packages/prophet/forecaster.py:896: FutureWarning: The frame.append method is deprecated and will be removed from pandas in a future version. Use pandas.concat instead.\n",
      "  components = components.append(new_comp)\n",
      "/Users/frankkelly/Library/Caches/pypoetry/virtualenvs/india-air-pollution-study-xopDDJl_-py3.9/lib/python3.9/site-packages/prophet/forecaster.py:896: FutureWarning: The frame.append method is deprecated and will be removed from pandas in a future version. Use pandas.concat instead.\n",
      "  components = components.append(new_comp)\n"
     ]
    }
   ],
   "source": [
    "forecast = forecaster.predict(future)"
   ]
  },
  {
   "cell_type": "code",
   "execution_count": 48,
   "id": "b79d6a1e",
   "metadata": {},
   "outputs": [
    {
     "data": {
      "text/html": [
       "<div>\n",
       "<style scoped>\n",
       "    .dataframe tbody tr th:only-of-type {\n",
       "        vertical-align: middle;\n",
       "    }\n",
       "\n",
       "    .dataframe tbody tr th {\n",
       "        vertical-align: top;\n",
       "    }\n",
       "\n",
       "    .dataframe thead th {\n",
       "        text-align: right;\n",
       "    }\n",
       "</style>\n",
       "<table border=\"1\" class=\"dataframe\">\n",
       "  <thead>\n",
       "    <tr style=\"text-align: right;\">\n",
       "      <th></th>\n",
       "      <th>ds</th>\n",
       "      <th>trend</th>\n",
       "      <th>yhat_lower</th>\n",
       "      <th>yhat_upper</th>\n",
       "      <th>trend_lower</th>\n",
       "      <th>trend_upper</th>\n",
       "      <th>additive_terms</th>\n",
       "      <th>additive_terms_lower</th>\n",
       "      <th>additive_terms_upper</th>\n",
       "      <th>yearly</th>\n",
       "      <th>yearly_lower</th>\n",
       "      <th>yearly_upper</th>\n",
       "      <th>multiplicative_terms</th>\n",
       "      <th>multiplicative_terms_lower</th>\n",
       "      <th>multiplicative_terms_upper</th>\n",
       "      <th>yhat</th>\n",
       "    </tr>\n",
       "  </thead>\n",
       "  <tbody>\n",
       "    <tr>\n",
       "      <th>0</th>\n",
       "      <td>2019-08-01</td>\n",
       "      <td>119.835968</td>\n",
       "      <td>11.305546</td>\n",
       "      <td>42.842058</td>\n",
       "      <td>119.835968</td>\n",
       "      <td>119.835968</td>\n",
       "      <td>-92.783578</td>\n",
       "      <td>-92.783578</td>\n",
       "      <td>-92.783578</td>\n",
       "      <td>-92.783578</td>\n",
       "      <td>-92.783578</td>\n",
       "      <td>-92.783578</td>\n",
       "      <td>0.0</td>\n",
       "      <td>0.0</td>\n",
       "      <td>0.0</td>\n",
       "      <td>27.052389</td>\n",
       "    </tr>\n",
       "    <tr>\n",
       "      <th>1</th>\n",
       "      <td>2019-09-01</td>\n",
       "      <td>119.117931</td>\n",
       "      <td>-1.807665</td>\n",
       "      <td>29.826464</td>\n",
       "      <td>119.099541</td>\n",
       "      <td>119.132877</td>\n",
       "      <td>-104.674826</td>\n",
       "      <td>-104.674826</td>\n",
       "      <td>-104.674826</td>\n",
       "      <td>-104.674826</td>\n",
       "      <td>-104.674826</td>\n",
       "      <td>-104.674826</td>\n",
       "      <td>0.0</td>\n",
       "      <td>0.0</td>\n",
       "      <td>0.0</td>\n",
       "      <td>14.443104</td>\n",
       "    </tr>\n",
       "    <tr>\n",
       "      <th>2</th>\n",
       "      <td>2019-10-01</td>\n",
       "      <td>118.423056</td>\n",
       "      <td>10.819798</td>\n",
       "      <td>40.932621</td>\n",
       "      <td>118.340866</td>\n",
       "      <td>118.494934</td>\n",
       "      <td>-93.436035</td>\n",
       "      <td>-93.436035</td>\n",
       "      <td>-93.436035</td>\n",
       "      <td>-93.436035</td>\n",
       "      <td>-93.436035</td>\n",
       "      <td>-93.436035</td>\n",
       "      <td>0.0</td>\n",
       "      <td>0.0</td>\n",
       "      <td>0.0</td>\n",
       "      <td>24.987021</td>\n",
       "    </tr>\n",
       "    <tr>\n",
       "      <th>3</th>\n",
       "      <td>2019-11-01</td>\n",
       "      <td>117.705019</td>\n",
       "      <td>125.719588</td>\n",
       "      <td>155.644435</td>\n",
       "      <td>117.533068</td>\n",
       "      <td>117.862908</td>\n",
       "      <td>22.617475</td>\n",
       "      <td>22.617475</td>\n",
       "      <td>22.617475</td>\n",
       "      <td>22.617475</td>\n",
       "      <td>22.617475</td>\n",
       "      <td>22.617475</td>\n",
       "      <td>0.0</td>\n",
       "      <td>0.0</td>\n",
       "      <td>0.0</td>\n",
       "      <td>140.322494</td>\n",
       "    </tr>\n",
       "    <tr>\n",
       "      <th>4</th>\n",
       "      <td>2019-12-01</td>\n",
       "      <td>117.010144</td>\n",
       "      <td>264.381159</td>\n",
       "      <td>294.726610</td>\n",
       "      <td>116.734010</td>\n",
       "      <td>117.265034</td>\n",
       "      <td>162.805370</td>\n",
       "      <td>162.805370</td>\n",
       "      <td>162.805370</td>\n",
       "      <td>162.805370</td>\n",
       "      <td>162.805370</td>\n",
       "      <td>162.805370</td>\n",
       "      <td>0.0</td>\n",
       "      <td>0.0</td>\n",
       "      <td>0.0</td>\n",
       "      <td>279.815514</td>\n",
       "    </tr>\n",
       "  </tbody>\n",
       "</table>\n",
       "</div>"
      ],
      "text/plain": [
       "          ds       trend  yhat_lower  yhat_upper  trend_lower  trend_upper  additive_terms  additive_terms_lower  additive_terms_upper  \\\n",
       "0 2019-08-01  119.835968   11.305546   42.842058   119.835968   119.835968      -92.783578            -92.783578            -92.783578   \n",
       "1 2019-09-01  119.117931   -1.807665   29.826464   119.099541   119.132877     -104.674826           -104.674826           -104.674826   \n",
       "2 2019-10-01  118.423056   10.819798   40.932621   118.340866   118.494934      -93.436035            -93.436035            -93.436035   \n",
       "3 2019-11-01  117.705019  125.719588  155.644435   117.533068   117.862908       22.617475             22.617475             22.617475   \n",
       "4 2019-12-01  117.010144  264.381159  294.726610   116.734010   117.265034      162.805370            162.805370            162.805370   \n",
       "\n",
       "       yearly  yearly_lower  yearly_upper  multiplicative_terms  multiplicative_terms_lower  multiplicative_terms_upper        yhat  \n",
       "0  -92.783578    -92.783578    -92.783578                   0.0                         0.0                         0.0   27.052389  \n",
       "1 -104.674826   -104.674826   -104.674826                   0.0                         0.0                         0.0   14.443104  \n",
       "2  -93.436035    -93.436035    -93.436035                   0.0                         0.0                         0.0   24.987021  \n",
       "3   22.617475     22.617475     22.617475                   0.0                         0.0                         0.0  140.322494  \n",
       "4  162.805370    162.805370    162.805370                   0.0                         0.0                         0.0  279.815514  "
      ]
     },
     "execution_count": 48,
     "metadata": {},
     "output_type": "execute_result"
    }
   ],
   "source": [
    "forecast.head()"
   ]
  },
  {
   "cell_type": "code",
   "execution_count": 49,
   "id": "44317f13",
   "metadata": {},
   "outputs": [
    {
     "data": {
      "text/html": [
       "<div>\n",
       "<style scoped>\n",
       "    .dataframe tbody tr th:only-of-type {\n",
       "        vertical-align: middle;\n",
       "    }\n",
       "\n",
       "    .dataframe tbody tr th {\n",
       "        vertical-align: top;\n",
       "    }\n",
       "\n",
       "    .dataframe thead th {\n",
       "        text-align: right;\n",
       "    }\n",
       "</style>\n",
       "<table border=\"1\" class=\"dataframe\">\n",
       "  <thead>\n",
       "    <tr style=\"text-align: right;\">\n",
       "      <th></th>\n",
       "      <th>ds</th>\n",
       "      <th>yhat</th>\n",
       "      <th>yhat_lower</th>\n",
       "      <th>yhat_upper</th>\n",
       "    </tr>\n",
       "  </thead>\n",
       "  <tbody>\n",
       "    <tr>\n",
       "      <th>7</th>\n",
       "      <td>2020-03-01</td>\n",
       "      <td>123.551207</td>\n",
       "      <td>107.992035</td>\n",
       "      <td>140.595322</td>\n",
       "    </tr>\n",
       "    <tr>\n",
       "      <th>8</th>\n",
       "      <td>2020-04-01</td>\n",
       "      <td>85.584592</td>\n",
       "      <td>68.774882</td>\n",
       "      <td>101.210514</td>\n",
       "    </tr>\n",
       "    <tr>\n",
       "      <th>9</th>\n",
       "      <td>2020-05-01</td>\n",
       "      <td>137.496593</td>\n",
       "      <td>121.695405</td>\n",
       "      <td>152.644668</td>\n",
       "    </tr>\n",
       "    <tr>\n",
       "      <th>10</th>\n",
       "      <td>2020-06-01</td>\n",
       "      <td>98.970866</td>\n",
       "      <td>83.672294</td>\n",
       "      <td>114.190011</td>\n",
       "    </tr>\n",
       "    <tr>\n",
       "      <th>11</th>\n",
       "      <td>2020-07-01</td>\n",
       "      <td>45.261225</td>\n",
       "      <td>28.931209</td>\n",
       "      <td>60.608969</td>\n",
       "    </tr>\n",
       "  </tbody>\n",
       "</table>\n",
       "</div>"
      ],
      "text/plain": [
       "           ds        yhat  yhat_lower  yhat_upper\n",
       "7  2020-03-01  123.551207  107.992035  140.595322\n",
       "8  2020-04-01   85.584592   68.774882  101.210514\n",
       "9  2020-05-01  137.496593  121.695405  152.644668\n",
       "10 2020-06-01   98.970866   83.672294  114.190011\n",
       "11 2020-07-01   45.261225   28.931209   60.608969"
      ]
     },
     "execution_count": 49,
     "metadata": {},
     "output_type": "execute_result"
    }
   ],
   "source": [
    "forecast[[\"ds\", \"yhat\", \"yhat_lower\", \"yhat_upper\"]].tail()"
   ]
  },
  {
   "cell_type": "code",
   "execution_count": 50,
   "id": "f3b5c254-97f3-4c86-b9f8-b3cbe1a1f4e5",
   "metadata": {},
   "outputs": [
    {
     "name": "stderr",
     "output_type": "stream",
     "text": [
      "/Users/frankkelly/Library/Caches/pypoetry/virtualenvs/india-air-pollution-study-xopDDJl_-py3.9/lib/python3.9/site-packages/prophet/forecaster.py:896: FutureWarning: The frame.append method is deprecated and will be removed from pandas in a future version. Use pandas.concat instead.\n",
      "  components = components.append(new_comp)\n",
      "/Users/frankkelly/Library/Caches/pypoetry/virtualenvs/india-air-pollution-study-xopDDJl_-py3.9/lib/python3.9/site-packages/prophet/forecaster.py:896: FutureWarning: The frame.append method is deprecated and will be removed from pandas in a future version. Use pandas.concat instead.\n",
      "  components = components.append(new_comp)\n"
     ]
    }
   ],
   "source": [
    "forecast = forecaster.predict(future)"
   ]
  },
  {
   "cell_type": "code",
   "execution_count": 51,
   "id": "072e454d-d828-418f-85b2-00a0584b94c1",
   "metadata": {},
   "outputs": [
    {
     "data": {
      "text/html": [
       "<div>\n",
       "<style scoped>\n",
       "    .dataframe tbody tr th:only-of-type {\n",
       "        vertical-align: middle;\n",
       "    }\n",
       "\n",
       "    .dataframe tbody tr th {\n",
       "        vertical-align: top;\n",
       "    }\n",
       "\n",
       "    .dataframe thead th {\n",
       "        text-align: right;\n",
       "    }\n",
       "</style>\n",
       "<table border=\"1\" class=\"dataframe\">\n",
       "  <thead>\n",
       "    <tr style=\"text-align: right;\">\n",
       "      <th></th>\n",
       "      <th>ds</th>\n",
       "      <th>trend</th>\n",
       "      <th>yhat_lower</th>\n",
       "      <th>yhat_upper</th>\n",
       "      <th>trend_lower</th>\n",
       "      <th>trend_upper</th>\n",
       "      <th>additive_terms</th>\n",
       "      <th>additive_terms_lower</th>\n",
       "      <th>additive_terms_upper</th>\n",
       "      <th>yearly</th>\n",
       "      <th>yearly_lower</th>\n",
       "      <th>yearly_upper</th>\n",
       "      <th>multiplicative_terms</th>\n",
       "      <th>multiplicative_terms_lower</th>\n",
       "      <th>multiplicative_terms_upper</th>\n",
       "      <th>yhat</th>\n",
       "    </tr>\n",
       "  </thead>\n",
       "  <tbody>\n",
       "    <tr>\n",
       "      <th>0</th>\n",
       "      <td>2019-08-01</td>\n",
       "      <td>119.835968</td>\n",
       "      <td>10.080689</td>\n",
       "      <td>42.515601</td>\n",
       "      <td>119.835968</td>\n",
       "      <td>119.835968</td>\n",
       "      <td>-92.783578</td>\n",
       "      <td>-92.783578</td>\n",
       "      <td>-92.783578</td>\n",
       "      <td>-92.783578</td>\n",
       "      <td>-92.783578</td>\n",
       "      <td>-92.783578</td>\n",
       "      <td>0.0</td>\n",
       "      <td>0.0</td>\n",
       "      <td>0.0</td>\n",
       "      <td>27.052389</td>\n",
       "    </tr>\n",
       "    <tr>\n",
       "      <th>1</th>\n",
       "      <td>2019-09-01</td>\n",
       "      <td>119.117931</td>\n",
       "      <td>-1.302174</td>\n",
       "      <td>30.260249</td>\n",
       "      <td>119.095171</td>\n",
       "      <td>119.136229</td>\n",
       "      <td>-104.674826</td>\n",
       "      <td>-104.674826</td>\n",
       "      <td>-104.674826</td>\n",
       "      <td>-104.674826</td>\n",
       "      <td>-104.674826</td>\n",
       "      <td>-104.674826</td>\n",
       "      <td>0.0</td>\n",
       "      <td>0.0</td>\n",
       "      <td>0.0</td>\n",
       "      <td>14.443104</td>\n",
       "    </tr>\n",
       "    <tr>\n",
       "      <th>2</th>\n",
       "      <td>2019-10-01</td>\n",
       "      <td>118.423056</td>\n",
       "      <td>9.042641</td>\n",
       "      <td>40.836508</td>\n",
       "      <td>118.345461</td>\n",
       "      <td>118.498941</td>\n",
       "      <td>-93.436035</td>\n",
       "      <td>-93.436035</td>\n",
       "      <td>-93.436035</td>\n",
       "      <td>-93.436035</td>\n",
       "      <td>-93.436035</td>\n",
       "      <td>-93.436035</td>\n",
       "      <td>0.0</td>\n",
       "      <td>0.0</td>\n",
       "      <td>0.0</td>\n",
       "      <td>24.987021</td>\n",
       "    </tr>\n",
       "    <tr>\n",
       "      <th>3</th>\n",
       "      <td>2019-11-01</td>\n",
       "      <td>117.705019</td>\n",
       "      <td>125.502172</td>\n",
       "      <td>155.881111</td>\n",
       "      <td>117.548457</td>\n",
       "      <td>117.873967</td>\n",
       "      <td>22.617475</td>\n",
       "      <td>22.617475</td>\n",
       "      <td>22.617475</td>\n",
       "      <td>22.617475</td>\n",
       "      <td>22.617475</td>\n",
       "      <td>22.617475</td>\n",
       "      <td>0.0</td>\n",
       "      <td>0.0</td>\n",
       "      <td>0.0</td>\n",
       "      <td>140.322494</td>\n",
       "    </tr>\n",
       "    <tr>\n",
       "      <th>4</th>\n",
       "      <td>2019-12-01</td>\n",
       "      <td>117.010144</td>\n",
       "      <td>263.732534</td>\n",
       "      <td>295.005735</td>\n",
       "      <td>116.746880</td>\n",
       "      <td>117.294468</td>\n",
       "      <td>162.805370</td>\n",
       "      <td>162.805370</td>\n",
       "      <td>162.805370</td>\n",
       "      <td>162.805370</td>\n",
       "      <td>162.805370</td>\n",
       "      <td>162.805370</td>\n",
       "      <td>0.0</td>\n",
       "      <td>0.0</td>\n",
       "      <td>0.0</td>\n",
       "      <td>279.815514</td>\n",
       "    </tr>\n",
       "  </tbody>\n",
       "</table>\n",
       "</div>"
      ],
      "text/plain": [
       "          ds       trend  yhat_lower  yhat_upper  trend_lower  trend_upper  additive_terms  additive_terms_lower  additive_terms_upper  \\\n",
       "0 2019-08-01  119.835968   10.080689   42.515601   119.835968   119.835968      -92.783578            -92.783578            -92.783578   \n",
       "1 2019-09-01  119.117931   -1.302174   30.260249   119.095171   119.136229     -104.674826           -104.674826           -104.674826   \n",
       "2 2019-10-01  118.423056    9.042641   40.836508   118.345461   118.498941      -93.436035            -93.436035            -93.436035   \n",
       "3 2019-11-01  117.705019  125.502172  155.881111   117.548457   117.873967       22.617475             22.617475             22.617475   \n",
       "4 2019-12-01  117.010144  263.732534  295.005735   116.746880   117.294468      162.805370            162.805370            162.805370   \n",
       "\n",
       "       yearly  yearly_lower  yearly_upper  multiplicative_terms  multiplicative_terms_lower  multiplicative_terms_upper        yhat  \n",
       "0  -92.783578    -92.783578    -92.783578                   0.0                         0.0                         0.0   27.052389  \n",
       "1 -104.674826   -104.674826   -104.674826                   0.0                         0.0                         0.0   14.443104  \n",
       "2  -93.436035    -93.436035    -93.436035                   0.0                         0.0                         0.0   24.987021  \n",
       "3   22.617475     22.617475     22.617475                   0.0                         0.0                         0.0  140.322494  \n",
       "4  162.805370    162.805370    162.805370                   0.0                         0.0                         0.0  279.815514  "
      ]
     },
     "execution_count": 51,
     "metadata": {},
     "output_type": "execute_result"
    }
   ],
   "source": [
    "forecast.head()"
   ]
  },
  {
   "cell_type": "code",
   "execution_count": 52,
   "id": "a34584bd-00d5-4f47-8b6e-204171ee50ca",
   "metadata": {},
   "outputs": [
    {
     "name": "stderr",
     "output_type": "stream",
     "text": [
      "/var/folders/63/m20qx7592pb4b2zvqmy711qc0000gn/T/ipykernel_50318/2228427570.py:1: FutureWarning: Treating datetime data as categorical rather than numeric in `.describe` is deprecated and will be removed in a future version of pandas. Specify `datetime_is_numeric=True` to silence this warning and adopt the future behavior now.\n",
      "  forecast.ds.describe()\n"
     ]
    },
    {
     "data": {
      "text/plain": [
       "count                      12\n",
       "unique                     12\n",
       "top       2019-08-01 00:00:00\n",
       "freq                        1\n",
       "first     2019-08-01 00:00:00\n",
       "last      2020-07-01 00:00:00\n",
       "Name: ds, dtype: object"
      ]
     },
     "execution_count": 52,
     "metadata": {},
     "output_type": "execute_result"
    }
   ],
   "source": [
    "forecast.ds.describe()"
   ]
  },
  {
   "cell_type": "code",
   "execution_count": 53,
   "id": "28a0fdd0-2710-4c91-8a27-031bbe3f19d6",
   "metadata": {},
   "outputs": [
    {
     "data": {
      "image/png": "[encoded data removed]",
      "text/plain": [
       "<Figure size 864x432 with 1 Axes>"
      ]
     },
     "execution_count": 53,
     "metadata": {},
     "output_type": "execute_result"
    },
    {
     "data": {
      "image/png": "[encoded data removed]",
      "text/plain": [
       "<Figure size 864x432 with 1 Axes>"
      ]
     },
     "metadata": {},
     "output_type": "display_data"
    }
   ],
   "source": [
    "forecaster.plot(forecast, figsize=(12, 6))"
   ]
  },
  {
   "cell_type": "markdown",
   "id": "2884e797-10c3-4f56-9fc6-a6523ffe1919",
   "metadata": {},
   "source": [
    "## Comparing predictions to actual values"
   ]
  },
  {
   "cell_type": "code",
   "execution_count": 58,
   "id": "91ba7d68-1c1b-47cc-9bce-41bd9aca5b6a",
   "metadata": {},
   "outputs": [
    {
     "data": {
      "image/png": "[encoded data removed]",
      "text/plain": [
       "<Figure size 864x432 with 1 Axes>"
      ]
     },
     "metadata": {
      "needs_background": "light"
     },
     "output_type": "display_data"
    }
   ],
   "source": [
    "import matplotlib.pyplot as plt\n",
    "\n",
    "fig, ax = plt.subplots(figsize=(12, 6))\n",
    "test.rename(columns={\"Date\": \"ds\", \"PM2.5\": \"y\"}).set_index(keys=[\"ds\"])[\"y\"].plot()\n",
    "forecast.set_index(keys=[\"ds\"]).iloc[-nobs:, :][\"yhat\"].plot()\n",
    "\n",
    "\n",
    "ax.legend([\"ground truth\", \"prediction\"])\n",
    "plt.show()"
   ]
  },
  {
   "cell_type": "code",
   "execution_count": null,
   "id": "cc0216db-1926-4ff2-afb6-44ae9fa86444",
   "metadata": {},
   "outputs": [],
   "source": [
    "#TODO: take single year's data, make prediction, then 2 years etc. (which timespan gives best prediction?)\n",
    "#TODO: try a prediction for 2023 (each Indian city)\n",
    "#TODO: Plot weekly prediction for each city\n",
    "# consdier location in country also\n",
    "\n",
    "# External datasets as well - wind speed / direction & temperature\n",
    "# Which method performs best with Pollution data\n",
    "# Which metrics to use to find which method perform the best"
   ]
  }
 ],
 "metadata": {
  "kernelspec": {
   "display_name": "Python 3.9.13 ('india-air-pollution-study-xopDDJl_-py3.9')",
   "language": "python",
   "name": "python3"
  },
  "language_info": {
   "codemirror_mode": {
    "name": "ipython",
    "version": 3
   },
   "file_extension": ".py",
   "mimetype": "text/x-python",
   "name": "python",
   "nbconvert_exporter": "python",
   "pygments_lexer": "ipython3",
   "version": "3.9.9"
  },
  "vscode": {
   "interpreter": {
    "hash": "55ba992d1cba682b02aa5f2d2236ee23bc6a7a5856dcb19c56312461ac84880a"
   }
  }
 },
 "nbformat": 4,
 "nbformat_minor": 5
}
