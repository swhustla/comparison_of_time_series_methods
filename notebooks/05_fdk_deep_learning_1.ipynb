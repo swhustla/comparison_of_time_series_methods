{
 "cells": [
  {
   "cell_type": "markdown",
   "id": "733f6672-b4f6-482b-9cfc-337ad8ed5233",
   "metadata": {},
   "source": [
    "# Predict weekly data, single city (Deep Learning)"
   ]
  },
  {
   "cell_type": "code",
   "execution_count": 1,
   "id": "41dc0d23-91c2-466b-9a58-5705938189b9",
   "metadata": {},
   "outputs": [],
   "source": [
    "import os\n",
    "from pathlib import Path\n",
    "\n",
    "\n",
    "import matplotlib.pyplot as plt\n",
    "\n",
    "%matplotlib inline\n",
    "%load_ext autoreload\n",
    "%autoreload 2\n",
    "%load_ext lab_black"
   ]
  },
  {
   "cell_type": "code",
   "execution_count": 2,
   "id": "56ea4017-97a5-44b3-8faa-627f444a1ae3",
   "metadata": {},
   "outputs": [
    {
     "name": "stdout",
     "output_type": "stream",
     "text": [
      "Path air-quality-data-in-india exists\n"
     ]
    }
   ],
   "source": [
    "import zipfile\n",
    "\n",
    "\n",
    "iskaggle = os.environ.get(\"KAGGLE_KERNEL_RUN_TYPE\", \"\")\n",
    "if iskaggle:\n",
    "    path = Path(\"../rohanrao/air-quality-data-in-india\")\n",
    "else:\n",
    "    full_path = Path(\"rohanrao/air-quality-data-in-india\")\n",
    "    owner_slug = str(full_path).split(\"/\")[0]\n",
    "    dataset_slug = str(full_path).split(\"/\")[1]\n",
    "    path = Path(dataset_slug)\n",
    "    if not path.exists():\n",
    "        import zipfile, kaggle\n",
    "\n",
    "        kaggle.api.datasets_download(owner_slug=owner_slug, dataset_slug=dataset_slug)\n",
    "        zipfile.ZipFile(f\"{dataset_slug}.zip\").extractall(dataset_slug)\n",
    "    else:\n",
    "        print(f\"Path {path} exists\")"
   ]
  },
  {
   "cell_type": "code",
   "execution_count": 4,
   "id": "c6c702d4-1902-4696-8d05-8daec7181ac9",
   "metadata": {},
   "outputs": [],
   "source": [
    "import torch, numpy as np, pandas as pd"
   ]
  },
  {
   "cell_type": "code",
   "execution_count": 5,
   "id": "fb1ded4c-a6a2-461f-b6e6-aecfd0352c72",
   "metadata": {},
   "outputs": [],
   "source": [
    "np.set_printoptions(linewidth=140)\n",
    "torch.set_printoptions(linewidth=140, sci_mode=False, edgeitems=7)\n",
    "pd.set_option(\"display.width\", 140)"
   ]
  },
  {
   "cell_type": "code",
   "execution_count": 50,
   "id": "fcbcaee2-eca3-4732-a2df-fff15abae8e7",
   "metadata": {},
   "outputs": [
    {
     "name": "stdout",
     "output_type": "stream",
     "text": [
      "<class 'pandas.core.frame.DataFrame'>\n",
      "DatetimeIndex: 29531 entries, 2015-01-01 to 2020-07-01\n",
      "Data columns (total 15 columns):\n",
      " #   Column      Non-Null Count  Dtype  \n",
      "---  ------      --------------  -----  \n",
      " 0   City        29531 non-null  object \n",
      " 1   PM2.5       24933 non-null  float64\n",
      " 2   PM10        18391 non-null  float64\n",
      " 3   NO          25949 non-null  float64\n",
      " 4   NO2         25946 non-null  float64\n",
      " 5   NOx         25346 non-null  float64\n",
      " 6   NH3         19203 non-null  float64\n",
      " 7   CO          27472 non-null  float64\n",
      " 8   SO2         25677 non-null  float64\n",
      " 9   O3          25509 non-null  float64\n",
      " 10  Benzene     23908 non-null  float64\n",
      " 11  Toluene     21490 non-null  float64\n",
      " 12  Xylene      11422 non-null  float64\n",
      " 13  AQI         24850 non-null  float64\n",
      " 14  AQI_Bucket  24850 non-null  object \n",
      "dtypes: float64(13), object(2)\n",
      "memory usage: 3.6+ MB\n"
     ]
    },
    {
     "data": {
      "text/plain": [
       "None"
      ]
     },
     "metadata": {},
     "output_type": "display_data"
    },
    {
     "data": {
      "text/html": [
       "<div>\n",
       "<style scoped>\n",
       "    .dataframe tbody tr th:only-of-type {\n",
       "        vertical-align: middle;\n",
       "    }\n",
       "\n",
       "    .dataframe tbody tr th {\n",
       "        vertical-align: top;\n",
       "    }\n",
       "\n",
       "    .dataframe thead th {\n",
       "        text-align: right;\n",
       "    }\n",
       "</style>\n",
       "<table border=\"1\" class=\"dataframe\">\n",
       "  <thead>\n",
       "    <tr style=\"text-align: right;\">\n",
       "      <th></th>\n",
       "      <th>City</th>\n",
       "      <th>PM2.5</th>\n",
       "      <th>PM10</th>\n",
       "      <th>NO</th>\n",
       "      <th>NO2</th>\n",
       "      <th>NOx</th>\n",
       "      <th>NH3</th>\n",
       "      <th>CO</th>\n",
       "      <th>SO2</th>\n",
       "      <th>O3</th>\n",
       "      <th>Benzene</th>\n",
       "      <th>Toluene</th>\n",
       "      <th>Xylene</th>\n",
       "      <th>AQI</th>\n",
       "      <th>AQI_Bucket</th>\n",
       "    </tr>\n",
       "    <tr>\n",
       "      <th>Date</th>\n",
       "      <th></th>\n",
       "      <th></th>\n",
       "      <th></th>\n",
       "      <th></th>\n",
       "      <th></th>\n",
       "      <th></th>\n",
       "      <th></th>\n",
       "      <th></th>\n",
       "      <th></th>\n",
       "      <th></th>\n",
       "      <th></th>\n",
       "      <th></th>\n",
       "      <th></th>\n",
       "      <th></th>\n",
       "      <th></th>\n",
       "    </tr>\n",
       "  </thead>\n",
       "  <tbody>\n",
       "    <tr>\n",
       "      <th>2015-01-01</th>\n",
       "      <td>Ahmedabad</td>\n",
       "      <td>NaN</td>\n",
       "      <td>NaN</td>\n",
       "      <td>0.92</td>\n",
       "      <td>18.22</td>\n",
       "      <td>17.15</td>\n",
       "      <td>NaN</td>\n",
       "      <td>0.92</td>\n",
       "      <td>27.64</td>\n",
       "      <td>133.36</td>\n",
       "      <td>0.00</td>\n",
       "      <td>0.02</td>\n",
       "      <td>0.00</td>\n",
       "      <td>NaN</td>\n",
       "      <td>NaN</td>\n",
       "    </tr>\n",
       "    <tr>\n",
       "      <th>2015-01-02</th>\n",
       "      <td>Ahmedabad</td>\n",
       "      <td>NaN</td>\n",
       "      <td>NaN</td>\n",
       "      <td>0.97</td>\n",
       "      <td>15.69</td>\n",
       "      <td>16.46</td>\n",
       "      <td>NaN</td>\n",
       "      <td>0.97</td>\n",
       "      <td>24.55</td>\n",
       "      <td>34.06</td>\n",
       "      <td>3.68</td>\n",
       "      <td>5.50</td>\n",
       "      <td>3.77</td>\n",
       "      <td>NaN</td>\n",
       "      <td>NaN</td>\n",
       "    </tr>\n",
       "    <tr>\n",
       "      <th>2015-01-03</th>\n",
       "      <td>Ahmedabad</td>\n",
       "      <td>NaN</td>\n",
       "      <td>NaN</td>\n",
       "      <td>17.40</td>\n",
       "      <td>19.30</td>\n",
       "      <td>29.70</td>\n",
       "      <td>NaN</td>\n",
       "      <td>17.40</td>\n",
       "      <td>29.07</td>\n",
       "      <td>30.70</td>\n",
       "      <td>6.80</td>\n",
       "      <td>16.40</td>\n",
       "      <td>2.25</td>\n",
       "      <td>NaN</td>\n",
       "      <td>NaN</td>\n",
       "    </tr>\n",
       "    <tr>\n",
       "      <th>2015-01-04</th>\n",
       "      <td>Ahmedabad</td>\n",
       "      <td>NaN</td>\n",
       "      <td>NaN</td>\n",
       "      <td>1.70</td>\n",
       "      <td>18.48</td>\n",
       "      <td>17.97</td>\n",
       "      <td>NaN</td>\n",
       "      <td>1.70</td>\n",
       "      <td>18.59</td>\n",
       "      <td>36.08</td>\n",
       "      <td>4.43</td>\n",
       "      <td>10.14</td>\n",
       "      <td>1.00</td>\n",
       "      <td>NaN</td>\n",
       "      <td>NaN</td>\n",
       "    </tr>\n",
       "    <tr>\n",
       "      <th>2015-01-05</th>\n",
       "      <td>Ahmedabad</td>\n",
       "      <td>NaN</td>\n",
       "      <td>NaN</td>\n",
       "      <td>22.10</td>\n",
       "      <td>21.42</td>\n",
       "      <td>37.76</td>\n",
       "      <td>NaN</td>\n",
       "      <td>22.10</td>\n",
       "      <td>39.33</td>\n",
       "      <td>39.31</td>\n",
       "      <td>7.01</td>\n",
       "      <td>18.89</td>\n",
       "      <td>2.78</td>\n",
       "      <td>NaN</td>\n",
       "      <td>NaN</td>\n",
       "    </tr>\n",
       "  </tbody>\n",
       "</table>\n",
       "</div>"
      ],
      "text/plain": [
       "                 City  PM2.5  PM10     NO    NO2    NOx  NH3     CO    SO2      O3  Benzene  Toluene  Xylene  AQI AQI_Bucket\n",
       "Date                                                                                                                        \n",
       "2015-01-01  Ahmedabad    NaN   NaN   0.92  18.22  17.15  NaN   0.92  27.64  133.36     0.00     0.02    0.00  NaN        NaN\n",
       "2015-01-02  Ahmedabad    NaN   NaN   0.97  15.69  16.46  NaN   0.97  24.55   34.06     3.68     5.50    3.77  NaN        NaN\n",
       "2015-01-03  Ahmedabad    NaN   NaN  17.40  19.30  29.70  NaN  17.40  29.07   30.70     6.80    16.40    2.25  NaN        NaN\n",
       "2015-01-04  Ahmedabad    NaN   NaN   1.70  18.48  17.97  NaN   1.70  18.59   36.08     4.43    10.14    1.00  NaN        NaN\n",
       "2015-01-05  Ahmedabad    NaN   NaN  22.10  21.42  37.76  NaN  22.10  39.33   39.31     7.01    18.89    2.78  NaN        NaN"
      ]
     },
     "execution_count": 50,
     "metadata": {},
     "output_type": "execute_result"
    }
   ],
   "source": [
    "df = pd.read_csv(path / \"city_day.csv\", parse_dates=[\"Date\"])\n",
    "df.Date = pd.to_datetime(df.Date)\n",
    "\n",
    "df.set_index(\"Date\", inplace=True)\n",
    "display(df.info())\n",
    "df.head()"
   ]
  },
  {
   "cell_type": "code",
   "execution_count": 51,
   "id": "385da36f-2c27-4a8f-a0c5-9ca7f2541039",
   "metadata": {},
   "outputs": [
    {
     "data": {
      "text/plain": [
       "City           object\n",
       "PM2.5         float64\n",
       "PM10          float64\n",
       "NO            float64\n",
       "NO2           float64\n",
       "NOx           float64\n",
       "NH3           float64\n",
       "CO            float64\n",
       "SO2           float64\n",
       "O3            float64\n",
       "Benzene       float64\n",
       "Toluene       float64\n",
       "Xylene        float64\n",
       "AQI           float64\n",
       "AQI_Bucket     object\n",
       "dtype: object"
      ]
     },
     "execution_count": 51,
     "metadata": {},
     "output_type": "execute_result"
    }
   ],
   "source": [
    "df.dtypes"
   ]
  },
  {
   "cell_type": "code",
   "execution_count": 52,
   "id": "db826aa4-296c-4845-ba3c-9a55a8cc9105",
   "metadata": {},
   "outputs": [
    {
     "data": {
      "text/plain": [
       "City              0\n",
       "PM2.5          4598\n",
       "PM10          11140\n",
       "NO             3582\n",
       "NO2            3585\n",
       "NOx            4185\n",
       "NH3           10328\n",
       "CO             2059\n",
       "SO2            3854\n",
       "O3             4022\n",
       "Benzene        5623\n",
       "Toluene        8041\n",
       "Xylene        18109\n",
       "AQI            4681\n",
       "AQI_Bucket     4681\n",
       "dtype: int64"
      ]
     },
     "execution_count": 52,
     "metadata": {},
     "output_type": "execute_result"
    }
   ],
   "source": [
    "df.isna().sum()"
   ]
  },
  {
   "cell_type": "code",
   "execution_count": 53,
   "id": "6431061f-df81-441c-ab49-0e49db1355e0",
   "metadata": {},
   "outputs": [
    {
     "data": {
      "text/html": [
       "<div>\n",
       "<style scoped>\n",
       "    .dataframe tbody tr th:only-of-type {\n",
       "        vertical-align: middle;\n",
       "    }\n",
       "\n",
       "    .dataframe tbody tr th {\n",
       "        vertical-align: top;\n",
       "    }\n",
       "\n",
       "    .dataframe thead th {\n",
       "        text-align: right;\n",
       "    }\n",
       "</style>\n",
       "<table border=\"1\" class=\"dataframe\">\n",
       "  <thead>\n",
       "    <tr style=\"text-align: right;\">\n",
       "      <th></th>\n",
       "      <th>PM2.5</th>\n",
       "      <th>PM10</th>\n",
       "      <th>NO</th>\n",
       "      <th>NO2</th>\n",
       "      <th>NOx</th>\n",
       "      <th>NH3</th>\n",
       "      <th>CO</th>\n",
       "      <th>SO2</th>\n",
       "      <th>O3</th>\n",
       "      <th>Benzene</th>\n",
       "      <th>Toluene</th>\n",
       "      <th>Xylene</th>\n",
       "      <th>AQI</th>\n",
       "    </tr>\n",
       "  </thead>\n",
       "  <tbody>\n",
       "    <tr>\n",
       "      <th>count</th>\n",
       "      <td>24933.000000</td>\n",
       "      <td>18391.000000</td>\n",
       "      <td>25949.000000</td>\n",
       "      <td>25946.000000</td>\n",
       "      <td>25346.000000</td>\n",
       "      <td>19203.000000</td>\n",
       "      <td>27472.000000</td>\n",
       "      <td>25677.000000</td>\n",
       "      <td>25509.000000</td>\n",
       "      <td>23908.000000</td>\n",
       "      <td>21490.000000</td>\n",
       "      <td>11422.000000</td>\n",
       "      <td>24850.000000</td>\n",
       "    </tr>\n",
       "    <tr>\n",
       "      <th>mean</th>\n",
       "      <td>67.450578</td>\n",
       "      <td>118.127103</td>\n",
       "      <td>17.574730</td>\n",
       "      <td>28.560659</td>\n",
       "      <td>32.309123</td>\n",
       "      <td>23.483476</td>\n",
       "      <td>2.248598</td>\n",
       "      <td>14.531977</td>\n",
       "      <td>34.491430</td>\n",
       "      <td>3.280840</td>\n",
       "      <td>8.700972</td>\n",
       "      <td>3.070128</td>\n",
       "      <td>166.463581</td>\n",
       "    </tr>\n",
       "    <tr>\n",
       "      <th>std</th>\n",
       "      <td>64.661449</td>\n",
       "      <td>90.605110</td>\n",
       "      <td>22.785846</td>\n",
       "      <td>24.474746</td>\n",
       "      <td>31.646011</td>\n",
       "      <td>25.684275</td>\n",
       "      <td>6.962884</td>\n",
       "      <td>18.133775</td>\n",
       "      <td>21.694928</td>\n",
       "      <td>15.811136</td>\n",
       "      <td>19.969164</td>\n",
       "      <td>6.323247</td>\n",
       "      <td>140.696585</td>\n",
       "    </tr>\n",
       "    <tr>\n",
       "      <th>min</th>\n",
       "      <td>0.040000</td>\n",
       "      <td>0.010000</td>\n",
       "      <td>0.020000</td>\n",
       "      <td>0.010000</td>\n",
       "      <td>0.000000</td>\n",
       "      <td>0.010000</td>\n",
       "      <td>0.000000</td>\n",
       "      <td>0.010000</td>\n",
       "      <td>0.010000</td>\n",
       "      <td>0.000000</td>\n",
       "      <td>0.000000</td>\n",
       "      <td>0.000000</td>\n",
       "      <td>13.000000</td>\n",
       "    </tr>\n",
       "    <tr>\n",
       "      <th>25%</th>\n",
       "      <td>28.820000</td>\n",
       "      <td>56.255000</td>\n",
       "      <td>5.630000</td>\n",
       "      <td>11.750000</td>\n",
       "      <td>12.820000</td>\n",
       "      <td>8.580000</td>\n",
       "      <td>0.510000</td>\n",
       "      <td>5.670000</td>\n",
       "      <td>18.860000</td>\n",
       "      <td>0.120000</td>\n",
       "      <td>0.600000</td>\n",
       "      <td>0.140000</td>\n",
       "      <td>81.000000</td>\n",
       "    </tr>\n",
       "    <tr>\n",
       "      <th>50%</th>\n",
       "      <td>48.570000</td>\n",
       "      <td>95.680000</td>\n",
       "      <td>9.890000</td>\n",
       "      <td>21.690000</td>\n",
       "      <td>23.520000</td>\n",
       "      <td>15.850000</td>\n",
       "      <td>0.890000</td>\n",
       "      <td>9.160000</td>\n",
       "      <td>30.840000</td>\n",
       "      <td>1.070000</td>\n",
       "      <td>2.970000</td>\n",
       "      <td>0.980000</td>\n",
       "      <td>118.000000</td>\n",
       "    </tr>\n",
       "    <tr>\n",
       "      <th>75%</th>\n",
       "      <td>80.590000</td>\n",
       "      <td>149.745000</td>\n",
       "      <td>19.950000</td>\n",
       "      <td>37.620000</td>\n",
       "      <td>40.127500</td>\n",
       "      <td>30.020000</td>\n",
       "      <td>1.450000</td>\n",
       "      <td>15.220000</td>\n",
       "      <td>45.570000</td>\n",
       "      <td>3.080000</td>\n",
       "      <td>9.150000</td>\n",
       "      <td>3.350000</td>\n",
       "      <td>208.000000</td>\n",
       "    </tr>\n",
       "    <tr>\n",
       "      <th>max</th>\n",
       "      <td>949.990000</td>\n",
       "      <td>1000.000000</td>\n",
       "      <td>390.680000</td>\n",
       "      <td>362.210000</td>\n",
       "      <td>467.630000</td>\n",
       "      <td>352.890000</td>\n",
       "      <td>175.810000</td>\n",
       "      <td>193.860000</td>\n",
       "      <td>257.730000</td>\n",
       "      <td>455.030000</td>\n",
       "      <td>454.850000</td>\n",
       "      <td>170.370000</td>\n",
       "      <td>2049.000000</td>\n",
       "    </tr>\n",
       "  </tbody>\n",
       "</table>\n",
       "</div>"
      ],
      "text/plain": [
       "              PM2.5          PM10            NO           NO2           NOx           NH3            CO           SO2            O3  \\\n",
       "count  24933.000000  18391.000000  25949.000000  25946.000000  25346.000000  19203.000000  27472.000000  25677.000000  25509.000000   \n",
       "mean      67.450578    118.127103     17.574730     28.560659     32.309123     23.483476      2.248598     14.531977     34.491430   \n",
       "std       64.661449     90.605110     22.785846     24.474746     31.646011     25.684275      6.962884     18.133775     21.694928   \n",
       "min        0.040000      0.010000      0.020000      0.010000      0.000000      0.010000      0.000000      0.010000      0.010000   \n",
       "25%       28.820000     56.255000      5.630000     11.750000     12.820000      8.580000      0.510000      5.670000     18.860000   \n",
       "50%       48.570000     95.680000      9.890000     21.690000     23.520000     15.850000      0.890000      9.160000     30.840000   \n",
       "75%       80.590000    149.745000     19.950000     37.620000     40.127500     30.020000      1.450000     15.220000     45.570000   \n",
       "max      949.990000   1000.000000    390.680000    362.210000    467.630000    352.890000    175.810000    193.860000    257.730000   \n",
       "\n",
       "            Benzene       Toluene        Xylene           AQI  \n",
       "count  23908.000000  21490.000000  11422.000000  24850.000000  \n",
       "mean       3.280840      8.700972      3.070128    166.463581  \n",
       "std       15.811136     19.969164      6.323247    140.696585  \n",
       "min        0.000000      0.000000      0.000000     13.000000  \n",
       "25%        0.120000      0.600000      0.140000     81.000000  \n",
       "50%        1.070000      2.970000      0.980000    118.000000  \n",
       "75%        3.080000      9.150000      3.350000    208.000000  \n",
       "max      455.030000    454.850000    170.370000   2049.000000  "
      ]
     },
     "execution_count": 53,
     "metadata": {},
     "output_type": "execute_result"
    }
   ],
   "source": [
    "df.describe(include=(np.number))"
   ]
  },
  {
   "cell_type": "code",
   "execution_count": 54,
   "id": "0b7c64d8-82c3-416a-9232-c0331f179d34",
   "metadata": {},
   "outputs": [
    {
     "data": {
      "text/html": [
       "<div>\n",
       "<style scoped>\n",
       "    .dataframe tbody tr th:only-of-type {\n",
       "        vertical-align: middle;\n",
       "    }\n",
       "\n",
       "    .dataframe tbody tr th {\n",
       "        vertical-align: top;\n",
       "    }\n",
       "\n",
       "    .dataframe thead th {\n",
       "        text-align: right;\n",
       "    }\n",
       "</style>\n",
       "<table border=\"1\" class=\"dataframe\">\n",
       "  <thead>\n",
       "    <tr style=\"text-align: right;\">\n",
       "      <th></th>\n",
       "      <th>City</th>\n",
       "      <th>AQI_Bucket</th>\n",
       "    </tr>\n",
       "  </thead>\n",
       "  <tbody>\n",
       "    <tr>\n",
       "      <th>count</th>\n",
       "      <td>29531</td>\n",
       "      <td>24850</td>\n",
       "    </tr>\n",
       "    <tr>\n",
       "      <th>unique</th>\n",
       "      <td>26</td>\n",
       "      <td>6</td>\n",
       "    </tr>\n",
       "    <tr>\n",
       "      <th>top</th>\n",
       "      <td>Ahmedabad</td>\n",
       "      <td>Moderate</td>\n",
       "    </tr>\n",
       "    <tr>\n",
       "      <th>freq</th>\n",
       "      <td>2009</td>\n",
       "      <td>8829</td>\n",
       "    </tr>\n",
       "  </tbody>\n",
       "</table>\n",
       "</div>"
      ],
      "text/plain": [
       "             City AQI_Bucket\n",
       "count       29531      24850\n",
       "unique         26          6\n",
       "top     Ahmedabad   Moderate\n",
       "freq         2009       8829"
      ]
     },
     "execution_count": 54,
     "metadata": {},
     "output_type": "execute_result"
    }
   ],
   "source": [
    "df.describe(include=[object])"
   ]
  },
  {
   "cell_type": "code",
   "execution_count": 55,
   "id": "e9537a80",
   "metadata": {},
   "outputs": [],
   "source": [
    "pollution_columns = [\"PM2.5\", \"PM10\", \"O3\", \"CO\", \"SO2\", \"NO2\"]"
   ]
  },
  {
   "cell_type": "code",
   "execution_count": 56,
   "id": "9ad6246c-d88e-45c1-9340-3092f83bf074",
   "metadata": {},
   "outputs": [
    {
     "data": {
      "text/html": [
       "<div>\n",
       "<style scoped>\n",
       "    .dataframe tbody tr th:only-of-type {\n",
       "        vertical-align: middle;\n",
       "    }\n",
       "\n",
       "    .dataframe tbody tr th {\n",
       "        vertical-align: top;\n",
       "    }\n",
       "\n",
       "    .dataframe thead th {\n",
       "        text-align: right;\n",
       "    }\n",
       "</style>\n",
       "<table border=\"1\" class=\"dataframe\">\n",
       "  <thead>\n",
       "    <tr style=\"text-align: right;\">\n",
       "      <th></th>\n",
       "      <th>PM2.5</th>\n",
       "      <th>PM10</th>\n",
       "      <th>O3</th>\n",
       "      <th>CO</th>\n",
       "      <th>SO2</th>\n",
       "      <th>NO2</th>\n",
       "    </tr>\n",
       "    <tr>\n",
       "      <th>Date</th>\n",
       "      <th></th>\n",
       "      <th></th>\n",
       "      <th></th>\n",
       "      <th></th>\n",
       "      <th></th>\n",
       "      <th></th>\n",
       "    </tr>\n",
       "  </thead>\n",
       "  <tbody>\n",
       "    <tr>\n",
       "      <th>2015-01-01</th>\n",
       "      <td>313.22</td>\n",
       "      <td>607.98</td>\n",
       "      <td>41.68</td>\n",
       "      <td>15.20</td>\n",
       "      <td>9.25</td>\n",
       "      <td>36.39</td>\n",
       "    </tr>\n",
       "    <tr>\n",
       "      <th>2015-01-02</th>\n",
       "      <td>186.18</td>\n",
       "      <td>269.55</td>\n",
       "      <td>29.97</td>\n",
       "      <td>9.54</td>\n",
       "      <td>6.65</td>\n",
       "      <td>32.87</td>\n",
       "    </tr>\n",
       "    <tr>\n",
       "      <th>2015-01-03</th>\n",
       "      <td>87.18</td>\n",
       "      <td>131.90</td>\n",
       "      <td>19.71</td>\n",
       "      <td>10.61</td>\n",
       "      <td>2.65</td>\n",
       "      <td>30.31</td>\n",
       "    </tr>\n",
       "    <tr>\n",
       "      <th>2015-01-04</th>\n",
       "      <td>151.84</td>\n",
       "      <td>241.84</td>\n",
       "      <td>25.36</td>\n",
       "      <td>11.54</td>\n",
       "      <td>4.63</td>\n",
       "      <td>36.91</td>\n",
       "    </tr>\n",
       "    <tr>\n",
       "      <th>2015-01-05</th>\n",
       "      <td>146.60</td>\n",
       "      <td>219.13</td>\n",
       "      <td>23.20</td>\n",
       "      <td>9.20</td>\n",
       "      <td>3.33</td>\n",
       "      <td>34.92</td>\n",
       "    </tr>\n",
       "  </tbody>\n",
       "</table>\n",
       "</div>"
      ],
      "text/plain": [
       "             PM2.5    PM10     O3     CO   SO2    NO2\n",
       "Date                                                 \n",
       "2015-01-01  313.22  607.98  41.68  15.20  9.25  36.39\n",
       "2015-01-02  186.18  269.55  29.97   9.54  6.65  32.87\n",
       "2015-01-03   87.18  131.90  19.71  10.61  2.65  30.31\n",
       "2015-01-04  151.84  241.84  25.36  11.54  4.63  36.91\n",
       "2015-01-05  146.60  219.13  23.20   9.20  3.33  34.92"
      ]
     },
     "execution_count": 56,
     "metadata": {},
     "output_type": "execute_result"
    }
   ],
   "source": [
    "from asyncore import poll\n",
    "\n",
    "delhi_df = df[df[\"City\"] == \"Delhi\"][pollution_columns]\n",
    "delhi_df.head()"
   ]
  },
  {
   "cell_type": "code",
   "execution_count": 57,
   "id": "7e548ebb-5998-4350-987c-ac4c74b2bcac",
   "metadata": {},
   "outputs": [
    {
     "name": "stdout",
     "output_type": "stream",
     "text": [
      "(2009, 6)\n"
     ]
    },
    {
     "data": {
      "text/plain": [
       "PM2.5      2\n",
       "PM10      77\n",
       "O3        84\n",
       "CO         0\n",
       "SO2      110\n",
       "NO2        2\n",
       "dtype: int64"
      ]
     },
     "execution_count": 57,
     "metadata": {},
     "output_type": "execute_result"
    }
   ],
   "source": [
    "print(delhi_df.shape)\n",
    "delhi_df.isna().sum()"
   ]
  },
  {
   "cell_type": "code",
   "execution_count": 59,
   "id": "ebf54f7a",
   "metadata": {},
   "outputs": [
    {
     "data": {
      "text/plain": [
       "<AxesSubplot:xlabel='Date'>"
      ]
     },
     "execution_count": 59,
     "metadata": {},
     "output_type": "execute_result"
    },
    {
     "data": {
      "image/png": "[encoded data removed]",
      "text/plain": [
       "<Figure size 864x432 with 1 Axes>"
      ]
     },
     "metadata": {
      "needs_background": "light"
     },
     "output_type": "display_data"
    }
   ],
   "source": [
    "delhi_df[\"SO2\"].plot(figsize=(12, 6), alpha=0.5)"
   ]
  },
  {
   "cell_type": "code",
   "execution_count": 66,
   "id": "ea09d99a",
   "metadata": {},
   "outputs": [
    {
     "data": {
      "image/png": "[encoded data removed]",
      "text/plain": [
       "<Figure size 432x288 with 1 Axes>"
      ]
     },
     "metadata": {
      "needs_background": "light"
     },
     "output_type": "display_data"
    }
   ],
   "source": [
    "for column in pollution_columns:\n",
    "    delhi_df[column] = delhi_df[column].interpolate()\n",
    "    delhi_df[column].plot()"
   ]
  },
  {
   "cell_type": "code",
   "execution_count": 67,
   "id": "40873308-16bc-48ba-9742-78e7d1787940",
   "metadata": {},
   "outputs": [
    {
     "name": "stdout",
     "output_type": "stream",
     "text": [
      "(2009, 6)\n"
     ]
    },
    {
     "data": {
      "text/plain": [
       "PM2.5    0\n",
       "PM10     0\n",
       "O3       0\n",
       "CO       0\n",
       "SO2      0\n",
       "NO2      0\n",
       "dtype: int64"
      ]
     },
     "execution_count": 67,
     "metadata": {},
     "output_type": "execute_result"
    }
   ],
   "source": [
    "print(delhi_df.shape)\n",
    "delhi_df.isna().sum()"
   ]
  },
  {
   "cell_type": "code",
   "execution_count": 68,
   "id": "1ddfa024",
   "metadata": {},
   "outputs": [
    {
     "data": {
      "text/html": [
       "<div>\n",
       "<style scoped>\n",
       "    .dataframe tbody tr th:only-of-type {\n",
       "        vertical-align: middle;\n",
       "    }\n",
       "\n",
       "    .dataframe tbody tr th {\n",
       "        vertical-align: top;\n",
       "    }\n",
       "\n",
       "    .dataframe thead th {\n",
       "        text-align: right;\n",
       "    }\n",
       "</style>\n",
       "<table border=\"1\" class=\"dataframe\">\n",
       "  <thead>\n",
       "    <tr style=\"text-align: right;\">\n",
       "      <th></th>\n",
       "      <th>PM2.5</th>\n",
       "      <th>PM10</th>\n",
       "      <th>O3</th>\n",
       "      <th>CO</th>\n",
       "      <th>SO2</th>\n",
       "      <th>NO2</th>\n",
       "    </tr>\n",
       "    <tr>\n",
       "      <th>Date</th>\n",
       "      <th></th>\n",
       "      <th></th>\n",
       "      <th></th>\n",
       "      <th></th>\n",
       "      <th></th>\n",
       "      <th></th>\n",
       "    </tr>\n",
       "  </thead>\n",
       "  <tbody>\n",
       "    <tr>\n",
       "      <th>2015-01-04</th>\n",
       "      <td>184.605000</td>\n",
       "      <td>312.817500</td>\n",
       "      <td>29.180000</td>\n",
       "      <td>11.722500</td>\n",
       "      <td>5.795000</td>\n",
       "      <td>34.120000</td>\n",
       "    </tr>\n",
       "    <tr>\n",
       "      <th>2015-01-11</th>\n",
       "      <td>196.005714</td>\n",
       "      <td>337.294286</td>\n",
       "      <td>32.418571</td>\n",
       "      <td>10.171429</td>\n",
       "      <td>4.435714</td>\n",
       "      <td>41.187143</td>\n",
       "    </tr>\n",
       "    <tr>\n",
       "      <th>2015-01-18</th>\n",
       "      <td>187.650000</td>\n",
       "      <td>311.988571</td>\n",
       "      <td>35.515714</td>\n",
       "      <td>10.181429</td>\n",
       "      <td>5.451429</td>\n",
       "      <td>49.240000</td>\n",
       "    </tr>\n",
       "    <tr>\n",
       "      <th>2015-01-25</th>\n",
       "      <td>156.357143</td>\n",
       "      <td>217.318571</td>\n",
       "      <td>15.777143</td>\n",
       "      <td>9.458571</td>\n",
       "      <td>6.518571</td>\n",
       "      <td>24.634286</td>\n",
       "    </tr>\n",
       "    <tr>\n",
       "      <th>2015-02-01</th>\n",
       "      <td>162.784286</td>\n",
       "      <td>234.240000</td>\n",
       "      <td>17.501429</td>\n",
       "      <td>10.837143</td>\n",
       "      <td>6.471429</td>\n",
       "      <td>37.278571</td>\n",
       "    </tr>\n",
       "  </tbody>\n",
       "</table>\n",
       "</div>"
      ],
      "text/plain": [
       "                 PM2.5        PM10         O3         CO       SO2        NO2\n",
       "Date                                                                         \n",
       "2015-01-04  184.605000  312.817500  29.180000  11.722500  5.795000  34.120000\n",
       "2015-01-11  196.005714  337.294286  32.418571  10.171429  4.435714  41.187143\n",
       "2015-01-18  187.650000  311.988571  35.515714  10.181429  5.451429  49.240000\n",
       "2015-01-25  156.357143  217.318571  15.777143   9.458571  6.518571  24.634286\n",
       "2015-02-01  162.784286  234.240000  17.501429  10.837143  6.471429  37.278571"
      ]
     },
     "execution_count": 68,
     "metadata": {},
     "output_type": "execute_result"
    }
   ],
   "source": [
    "delhi_df_weekly = delhi_df.resample(\"w\").mean()\n",
    "delhi_df_weekly.head()"
   ]
  },
  {
   "cell_type": "code",
   "execution_count": 69,
   "id": "fe827576",
   "metadata": {},
   "outputs": [
    {
     "data": {
      "text/html": [
       "<div>\n",
       "<style scoped>\n",
       "    .dataframe tbody tr th:only-of-type {\n",
       "        vertical-align: middle;\n",
       "    }\n",
       "\n",
       "    .dataframe tbody tr th {\n",
       "        vertical-align: top;\n",
       "    }\n",
       "\n",
       "    .dataframe thead th {\n",
       "        text-align: right;\n",
       "    }\n",
       "</style>\n",
       "<table border=\"1\" class=\"dataframe\">\n",
       "  <thead>\n",
       "    <tr style=\"text-align: right;\">\n",
       "      <th></th>\n",
       "      <th>PM2.5</th>\n",
       "      <th>PM10</th>\n",
       "      <th>O3</th>\n",
       "      <th>CO</th>\n",
       "      <th>SO2</th>\n",
       "      <th>NO2</th>\n",
       "    </tr>\n",
       "    <tr>\n",
       "      <th>Date</th>\n",
       "      <th></th>\n",
       "      <th></th>\n",
       "      <th></th>\n",
       "      <th></th>\n",
       "      <th></th>\n",
       "      <th></th>\n",
       "    </tr>\n",
       "  </thead>\n",
       "  <tbody>\n",
       "    <tr>\n",
       "      <th>2015-01-01</th>\n",
       "      <td>313.22</td>\n",
       "      <td>607.98</td>\n",
       "      <td>41.68</td>\n",
       "      <td>15.20</td>\n",
       "      <td>9.25</td>\n",
       "      <td>36.39</td>\n",
       "    </tr>\n",
       "    <tr>\n",
       "      <th>2015-01-02</th>\n",
       "      <td>186.18</td>\n",
       "      <td>269.55</td>\n",
       "      <td>29.97</td>\n",
       "      <td>9.54</td>\n",
       "      <td>6.65</td>\n",
       "      <td>32.87</td>\n",
       "    </tr>\n",
       "    <tr>\n",
       "      <th>2015-01-03</th>\n",
       "      <td>87.18</td>\n",
       "      <td>131.90</td>\n",
       "      <td>19.71</td>\n",
       "      <td>10.61</td>\n",
       "      <td>2.65</td>\n",
       "      <td>30.31</td>\n",
       "    </tr>\n",
       "    <tr>\n",
       "      <th>2015-01-04</th>\n",
       "      <td>151.84</td>\n",
       "      <td>241.84</td>\n",
       "      <td>25.36</td>\n",
       "      <td>11.54</td>\n",
       "      <td>4.63</td>\n",
       "      <td>36.91</td>\n",
       "    </tr>\n",
       "    <tr>\n",
       "      <th>2015-01-05</th>\n",
       "      <td>146.60</td>\n",
       "      <td>219.13</td>\n",
       "      <td>23.20</td>\n",
       "      <td>9.20</td>\n",
       "      <td>3.33</td>\n",
       "      <td>34.92</td>\n",
       "    </tr>\n",
       "  </tbody>\n",
       "</table>\n",
       "</div>"
      ],
      "text/plain": [
       "             PM2.5    PM10     O3     CO   SO2    NO2\n",
       "Date                                                 \n",
       "2015-01-01  313.22  607.98  41.68  15.20  9.25  36.39\n",
       "2015-01-02  186.18  269.55  29.97   9.54  6.65  32.87\n",
       "2015-01-03   87.18  131.90  19.71  10.61  2.65  30.31\n",
       "2015-01-04  151.84  241.84  25.36  11.54  4.63  36.91\n",
       "2015-01-05  146.60  219.13  23.20   9.20  3.33  34.92"
      ]
     },
     "execution_count": 69,
     "metadata": {},
     "output_type": "execute_result"
    }
   ],
   "source": [
    "delhi_df_daily = delhi_df.resample(\"D\").mean()\n",
    "delhi_df_daily.head()"
   ]
  },
  {
   "cell_type": "code",
   "execution_count": 70,
   "id": "eeb1dd75",
   "metadata": {},
   "outputs": [
    {
     "data": {
      "image/png": "[encoded data removed]",
      "text/plain": [
       "<Figure size 864x432 with 1 Axes>"
      ]
     },
     "metadata": {
      "needs_background": "light"
     },
     "output_type": "display_data"
    }
   ],
   "source": [
    "delhi_df_weekly[\"PM2.5\"].plot(figsize=(12, 6))\n",
    "plt.show()"
   ]
  },
  {
   "cell_type": "code",
   "execution_count": 71,
   "id": "2b641d4d",
   "metadata": {},
   "outputs": [
    {
     "data": {
      "text/plain": [
       "<AxesSubplot:xlabel='Date'>"
      ]
     },
     "execution_count": 71,
     "metadata": {},
     "output_type": "execute_result"
    },
    {
     "data": {
      "image/png": "[encoded data removed]",
      "text/plain": [
       "<Figure size 864x432 with 1 Axes>"
      ]
     },
     "metadata": {
      "needs_background": "light"
     },
     "output_type": "display_data"
    }
   ],
   "source": [
    "delhi_df_daily[\"PM2.5\"].plot(figsize=(12, 6))"
   ]
  },
  {
   "cell_type": "markdown",
   "id": "c2f2d35c",
   "metadata": {},
   "source": [
    "## FCN Approach"
   ]
  },
  {
   "cell_type": "code",
   "execution_count": 72,
   "id": "d37efdf6",
   "metadata": {},
   "outputs": [],
   "source": [
    "import tensorflow as tf\n",
    "import tensorflow.keras as keras\n",
    "from tensorflow.keras.layers import Dense, Input, Dropout"
   ]
  },
  {
   "cell_type": "code",
   "execution_count": 73,
   "id": "340bcb07",
   "metadata": {},
   "outputs": [
    {
     "data": {
      "text/plain": [
       "Index(['PM2.5', 'PM10', 'O3', 'CO', 'SO2', 'NO2'], dtype='object')"
      ]
     },
     "execution_count": 73,
     "metadata": {},
     "output_type": "execute_result"
    }
   ],
   "source": [
    "delhi_df_weekly.columns"
   ]
  },
  {
   "cell_type": "code",
   "execution_count": null,
   "id": "dba619ef",
   "metadata": {},
   "outputs": [],
   "source": []
  },
  {
   "cell_type": "markdown",
   "id": "2884e797-10c3-4f56-9fc6-a6523ffe1919",
   "metadata": {},
   "source": [
    "## Comparing predictions to actual values"
   ]
  },
  {
   "cell_type": "code",
   "execution_count": 46,
   "id": "5b2dd953",
   "metadata": {},
   "outputs": [
    {
     "data": {
      "text/html": [
       "<div>\n",
       "<style scoped>\n",
       "    .dataframe tbody tr th:only-of-type {\n",
       "        vertical-align: middle;\n",
       "    }\n",
       "\n",
       "    .dataframe tbody tr th {\n",
       "        vertical-align: top;\n",
       "    }\n",
       "\n",
       "    .dataframe thead th {\n",
       "        text-align: right;\n",
       "    }\n",
       "</style>\n",
       "<table border=\"1\" class=\"dataframe\">\n",
       "  <thead>\n",
       "    <tr style=\"text-align: right;\">\n",
       "      <th></th>\n",
       "      <th>ds</th>\n",
       "      <th>trend</th>\n",
       "      <th>yhat_lower</th>\n",
       "      <th>yhat_upper</th>\n",
       "      <th>trend_lower</th>\n",
       "      <th>trend_upper</th>\n",
       "      <th>additive_terms</th>\n",
       "      <th>additive_terms_lower</th>\n",
       "      <th>additive_terms_upper</th>\n",
       "      <th>yearly</th>\n",
       "      <th>yearly_lower</th>\n",
       "      <th>yearly_upper</th>\n",
       "      <th>multiplicative_terms</th>\n",
       "      <th>multiplicative_terms_lower</th>\n",
       "      <th>multiplicative_terms_upper</th>\n",
       "      <th>yhat</th>\n",
       "    </tr>\n",
       "  </thead>\n",
       "  <tbody>\n",
       "    <tr>\n",
       "      <th>0</th>\n",
       "      <td>2019-07-14</td>\n",
       "      <td>107.274970</td>\n",
       "      <td>-6.134080</td>\n",
       "      <td>75.893263</td>\n",
       "      <td>107.274970</td>\n",
       "      <td>107.274970</td>\n",
       "      <td>-74.842576</td>\n",
       "      <td>-74.842576</td>\n",
       "      <td>-74.842576</td>\n",
       "      <td>-74.842576</td>\n",
       "      <td>-74.842576</td>\n",
       "      <td>-74.842576</td>\n",
       "      <td>0.0</td>\n",
       "      <td>0.0</td>\n",
       "      <td>0.0</td>\n",
       "      <td>32.432394</td>\n",
       "    </tr>\n",
       "    <tr>\n",
       "      <th>1</th>\n",
       "      <td>2019-07-21</td>\n",
       "      <td>107.095897</td>\n",
       "      <td>-11.860216</td>\n",
       "      <td>71.864566</td>\n",
       "      <td>107.095897</td>\n",
       "      <td>107.096561</td>\n",
       "      <td>-77.599631</td>\n",
       "      <td>-77.599631</td>\n",
       "      <td>-77.599631</td>\n",
       "      <td>-77.599631</td>\n",
       "      <td>-77.599631</td>\n",
       "      <td>-77.599631</td>\n",
       "      <td>0.0</td>\n",
       "      <td>0.0</td>\n",
       "      <td>0.0</td>\n",
       "      <td>29.496266</td>\n",
       "    </tr>\n",
       "    <tr>\n",
       "      <th>2</th>\n",
       "      <td>2019-07-28</td>\n",
       "      <td>106.916824</td>\n",
       "      <td>-13.992866</td>\n",
       "      <td>70.497699</td>\n",
       "      <td>106.915611</td>\n",
       "      <td>106.922590</td>\n",
       "      <td>-80.954995</td>\n",
       "      <td>-80.954995</td>\n",
       "      <td>-80.954995</td>\n",
       "      <td>-80.954995</td>\n",
       "      <td>-80.954995</td>\n",
       "      <td>-80.954995</td>\n",
       "      <td>0.0</td>\n",
       "      <td>0.0</td>\n",
       "      <td>0.0</td>\n",
       "      <td>25.961828</td>\n",
       "    </tr>\n",
       "    <tr>\n",
       "      <th>3</th>\n",
       "      <td>2019-08-04</td>\n",
       "      <td>106.737750</td>\n",
       "      <td>-17.291875</td>\n",
       "      <td>59.832537</td>\n",
       "      <td>106.731842</td>\n",
       "      <td>106.750928</td>\n",
       "      <td>-83.625372</td>\n",
       "      <td>-83.625372</td>\n",
       "      <td>-83.625372</td>\n",
       "      <td>-83.625372</td>\n",
       "      <td>-83.625372</td>\n",
       "      <td>-83.625372</td>\n",
       "      <td>0.0</td>\n",
       "      <td>0.0</td>\n",
       "      <td>0.0</td>\n",
       "      <td>23.112379</td>\n",
       "    </tr>\n",
       "    <tr>\n",
       "      <th>4</th>\n",
       "      <td>2019-08-11</td>\n",
       "      <td>106.558677</td>\n",
       "      <td>-16.489269</td>\n",
       "      <td>64.647404</td>\n",
       "      <td>106.544915</td>\n",
       "      <td>106.583049</td>\n",
       "      <td>-82.088571</td>\n",
       "      <td>-82.088571</td>\n",
       "      <td>-82.088571</td>\n",
       "      <td>-82.088571</td>\n",
       "      <td>-82.088571</td>\n",
       "      <td>-82.088571</td>\n",
       "      <td>0.0</td>\n",
       "      <td>0.0</td>\n",
       "      <td>0.0</td>\n",
       "      <td>24.470106</td>\n",
       "    </tr>\n",
       "  </tbody>\n",
       "</table>\n",
       "</div>"
      ],
      "text/plain": [
       "          ds       trend  yhat_lower  yhat_upper  trend_lower  trend_upper  additive_terms  additive_terms_lower  additive_terms_upper  \\\n",
       "0 2019-07-14  107.274970   -6.134080   75.893263   107.274970   107.274970      -74.842576            -74.842576            -74.842576   \n",
       "1 2019-07-21  107.095897  -11.860216   71.864566   107.095897   107.096561      -77.599631            -77.599631            -77.599631   \n",
       "2 2019-07-28  106.916824  -13.992866   70.497699   106.915611   106.922590      -80.954995            -80.954995            -80.954995   \n",
       "3 2019-08-04  106.737750  -17.291875   59.832537   106.731842   106.750928      -83.625372            -83.625372            -83.625372   \n",
       "4 2019-08-11  106.558677  -16.489269   64.647404   106.544915   106.583049      -82.088571            -82.088571            -82.088571   \n",
       "\n",
       "      yearly  yearly_lower  yearly_upper  multiplicative_terms  multiplicative_terms_lower  multiplicative_terms_upper       yhat  \n",
       "0 -74.842576    -74.842576    -74.842576                   0.0                         0.0                         0.0  32.432394  \n",
       "1 -77.599631    -77.599631    -77.599631                   0.0                         0.0                         0.0  29.496266  \n",
       "2 -80.954995    -80.954995    -80.954995                   0.0                         0.0                         0.0  25.961828  \n",
       "3 -83.625372    -83.625372    -83.625372                   0.0                         0.0                         0.0  23.112379  \n",
       "4 -82.088571    -82.088571    -82.088571                   0.0                         0.0                         0.0  24.470106  "
      ]
     },
     "execution_count": 46,
     "metadata": {},
     "output_type": "execute_result"
    }
   ],
   "source": [
    "forecast.head()"
   ]
  },
  {
   "cell_type": "code",
   "execution_count": 49,
   "id": "91ba7d68-1c1b-47cc-9bce-41bd9aca5b6a",
   "metadata": {},
   "outputs": [],
   "source": [
    "import matplotlib.pyplot as plt\n",
    "\n"
   ]
  },
  {
   "cell_type": "code",
   "execution_count": 68,
   "id": "317f22d0",
   "metadata": {},
   "outputs": [
    {
     "data": {
      "text/plain": [
       "<matplotlib.legend.Legend at 0x12e61a670>"
      ]
     },
     "execution_count": 68,
     "metadata": {},
     "output_type": "execute_result"
    },
    {
     "data": {
      "image/png": "[encoded data removed]",
      "text/plain": [
       "<Figure size 864x432 with 1 Axes>"
      ]
     },
     "metadata": {
      "needs_background": "light"
     },
     "output_type": "display_data"
    }
   ],
   "source": [
    "fig, ax = plt.subplots(figsize=(12, 6))\n",
    "\n",
    "forecast_series = forecast.set_index(keys=[\"ds\"]).iloc[-nobs:, :]\n",
    "ground_truth_series = test.rename(columns={\"Date\": \"ds\", \"PM2.5\": \"y\"}).set_index(\n",
    "    keys=[\"ds\"]\n",
    ")\n",
    "\n",
    "ground_truth_series[\"y\"].plot()\n",
    "forecast_series[\"yhat\"].plot()\n",
    "\n",
    "\n",
    "ax.legend([\"ground truth\", \"prediction\"])"
   ]
  },
  {
   "cell_type": "code",
   "execution_count": 69,
   "id": "052ae6c3",
   "metadata": {},
   "outputs": [
    {
     "data": {
      "text/plain": [
       "36.34970386744316"
      ]
     },
     "execution_count": 69,
     "metadata": {},
     "output_type": "execute_result"
    }
   ],
   "source": [
    "def calculate_RMSE(ground_truth, forecast):\n",
    "    return np.sqrt(np.mean((ground_truth - forecast) ** 2))\n",
    "\n",
    "\n",
    "calculate_RMSE(ground_truth_series[\"y\"], forecast_series[\"yhat\"])"
   ]
  },
  {
   "cell_type": "code",
   "execution_count": null,
   "id": "cc0216db-1926-4ff2-afb6-44ae9fa86444",
   "metadata": {},
   "outputs": [],
   "source": [
    "#TODO: take single year's data, make prediction, then 2 years etc. (which timespan gives best prediction?)\n",
    "#TODO: try a prediction for 2023 (each Indian city)\n",
    "#TODO: Plot weekly prediction for each city\n",
    "# consdier location in country also\n",
    "\n",
    "# External datasets as well - wind speed / direction & temperature\n",
    "# Which method performs best with Pollution data\n",
    "# Which metrics to use to find which method perform the best"
   ]
  }
 ],
 "metadata": {
  "kernelspec": {
   "display_name": "Python 3.9.13 ('india-air-pollution-study-xopDDJl_-py3.9')",
   "language": "python",
   "name": "python3"
  },
  "language_info": {
   "codemirror_mode": {
    "name": "ipython",
    "version": 3
   },
   "file_extension": ".py",
   "mimetype": "text/x-python",
   "name": "python",
   "nbconvert_exporter": "python",
   "pygments_lexer": "ipython3",
   "version": "3.9.9"
  },
  "vscode": {
   "interpreter": {
    "hash": "55ba992d1cba682b02aa5f2d2236ee23bc6a7a5856dcb19c56312461ac84880a"
   }
  }
 },
 "nbformat": 4,
 "nbformat_minor": 5
}
